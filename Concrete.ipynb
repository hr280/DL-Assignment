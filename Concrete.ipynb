{
 "cells": [
  {
   "cell_type": "markdown",
   "metadata": {
    "id": "CgPkafcBClHA"
   },
   "source": [
    "#Importing Libraries"
   ]
  },
  {
   "cell_type": "code",
   "execution_count": 324,
   "metadata": {
    "id": "NipDpuvkCmi6"
   },
   "outputs": [],
   "source": [
    "import pandas as pd\n",
    "import numpy as np\n",
    "import matplotlib.pyplot as plt"
   ]
  },
  {
   "cell_type": "markdown",
   "metadata": {
    "id": "UxC9ci-KDQoW"
   },
   "source": [
    "#Uploading Datasets"
   ]
  },
  {
   "cell_type": "code",
   "execution_count": 325,
   "metadata": {
    "id": "B_vpinNiCxTc"
   },
   "outputs": [],
   "source": [
    "data=pd.read_csv(\"compresive_strength_concrete.csv\")"
   ]
  },
  {
   "cell_type": "code",
   "execution_count": 326,
   "metadata": {
    "colab": {
     "base_uri": "https://localhost:8080/"
    },
    "id": "VcJwnsAHIgRW",
    "outputId": "ae5e6e22-0e87-46ca-b520-c9336626e6df"
   },
   "outputs": [
    {
     "data": {
      "text/plain": [
       "(1030, 9)"
      ]
     },
     "execution_count": 326,
     "metadata": {},
     "output_type": "execute_result"
    }
   ],
   "source": [
    "data.shape"
   ]
  },
  {
   "cell_type": "code",
   "execution_count": 327,
   "metadata": {
    "colab": {
     "base_uri": "https://localhost:8080/",
     "height": 326
    },
    "id": "U0yFP1M6Ikh-",
    "outputId": "769d5d3e-3100-4b3a-b009-cc08487e88a3"
   },
   "outputs": [
    {
     "data": {
      "text/html": [
       "<div>\n",
       "<style scoped>\n",
       "    .dataframe tbody tr th:only-of-type {\n",
       "        vertical-align: middle;\n",
       "    }\n",
       "\n",
       "    .dataframe tbody tr th {\n",
       "        vertical-align: top;\n",
       "    }\n",
       "\n",
       "    .dataframe thead th {\n",
       "        text-align: right;\n",
       "    }\n",
       "</style>\n",
       "<table border=\"1\" class=\"dataframe\">\n",
       "  <thead>\n",
       "    <tr style=\"text-align: right;\">\n",
       "      <th></th>\n",
       "      <th>Cement (component 1)(kg in a m^3 mixture)</th>\n",
       "      <th>Blast Furnace Slag (component 2)(kg in a m^3 mixture)</th>\n",
       "      <th>Fly Ash (component 3)(kg in a m^3 mixture)</th>\n",
       "      <th>Water  (component 4)(kg in a m^3 mixture)</th>\n",
       "      <th>Superplasticizer (component 5)(kg in a m^3 mixture)</th>\n",
       "      <th>Coarse Aggregate  (component 6)(kg in a m^3 mixture)</th>\n",
       "      <th>Fine Aggregate (component 7)(kg in a m^3 mixture)</th>\n",
       "      <th>Age (day)</th>\n",
       "      <th>Concrete compressive strength(MPa, megapascals)</th>\n",
       "    </tr>\n",
       "  </thead>\n",
       "  <tbody>\n",
       "    <tr>\n",
       "      <th>0</th>\n",
       "      <td>540.0</td>\n",
       "      <td>0.0</td>\n",
       "      <td>0.0</td>\n",
       "      <td>162.0</td>\n",
       "      <td>2.5</td>\n",
       "      <td>1040.0</td>\n",
       "      <td>676.0</td>\n",
       "      <td>28</td>\n",
       "      <td>79.99</td>\n",
       "    </tr>\n",
       "    <tr>\n",
       "      <th>1</th>\n",
       "      <td>540.0</td>\n",
       "      <td>0.0</td>\n",
       "      <td>0.0</td>\n",
       "      <td>162.0</td>\n",
       "      <td>2.5</td>\n",
       "      <td>1055.0</td>\n",
       "      <td>676.0</td>\n",
       "      <td>28</td>\n",
       "      <td>61.89</td>\n",
       "    </tr>\n",
       "    <tr>\n",
       "      <th>2</th>\n",
       "      <td>332.5</td>\n",
       "      <td>142.5</td>\n",
       "      <td>0.0</td>\n",
       "      <td>228.0</td>\n",
       "      <td>0.0</td>\n",
       "      <td>932.0</td>\n",
       "      <td>594.0</td>\n",
       "      <td>270</td>\n",
       "      <td>40.27</td>\n",
       "    </tr>\n",
       "    <tr>\n",
       "      <th>3</th>\n",
       "      <td>332.5</td>\n",
       "      <td>142.5</td>\n",
       "      <td>0.0</td>\n",
       "      <td>228.0</td>\n",
       "      <td>0.0</td>\n",
       "      <td>932.0</td>\n",
       "      <td>594.0</td>\n",
       "      <td>365</td>\n",
       "      <td>41.05</td>\n",
       "    </tr>\n",
       "    <tr>\n",
       "      <th>4</th>\n",
       "      <td>198.6</td>\n",
       "      <td>132.4</td>\n",
       "      <td>0.0</td>\n",
       "      <td>192.0</td>\n",
       "      <td>0.0</td>\n",
       "      <td>978.4</td>\n",
       "      <td>825.5</td>\n",
       "      <td>360</td>\n",
       "      <td>44.30</td>\n",
       "    </tr>\n",
       "  </tbody>\n",
       "</table>\n",
       "</div>"
      ],
      "text/plain": [
       "   Cement (component 1)(kg in a m^3 mixture)  \\\n",
       "0                                      540.0   \n",
       "1                                      540.0   \n",
       "2                                      332.5   \n",
       "3                                      332.5   \n",
       "4                                      198.6   \n",
       "\n",
       "   Blast Furnace Slag (component 2)(kg in a m^3 mixture)  \\\n",
       "0                                                0.0       \n",
       "1                                                0.0       \n",
       "2                                              142.5       \n",
       "3                                              142.5       \n",
       "4                                              132.4       \n",
       "\n",
       "   Fly Ash (component 3)(kg in a m^3 mixture)  \\\n",
       "0                                         0.0   \n",
       "1                                         0.0   \n",
       "2                                         0.0   \n",
       "3                                         0.0   \n",
       "4                                         0.0   \n",
       "\n",
       "   Water  (component 4)(kg in a m^3 mixture)  \\\n",
       "0                                      162.0   \n",
       "1                                      162.0   \n",
       "2                                      228.0   \n",
       "3                                      228.0   \n",
       "4                                      192.0   \n",
       "\n",
       "   Superplasticizer (component 5)(kg in a m^3 mixture)  \\\n",
       "0                                                2.5     \n",
       "1                                                2.5     \n",
       "2                                                0.0     \n",
       "3                                                0.0     \n",
       "4                                                0.0     \n",
       "\n",
       "   Coarse Aggregate  (component 6)(kg in a m^3 mixture)  \\\n",
       "0                                             1040.0      \n",
       "1                                             1055.0      \n",
       "2                                              932.0      \n",
       "3                                              932.0      \n",
       "4                                              978.4      \n",
       "\n",
       "   Fine Aggregate (component 7)(kg in a m^3 mixture)  Age (day)  \\\n",
       "0                                              676.0         28   \n",
       "1                                              676.0         28   \n",
       "2                                              594.0        270   \n",
       "3                                              594.0        365   \n",
       "4                                              825.5        360   \n",
       "\n",
       "   Concrete compressive strength(MPa, megapascals)   \n",
       "0                                             79.99  \n",
       "1                                             61.89  \n",
       "2                                             40.27  \n",
       "3                                             41.05  \n",
       "4                                             44.30  "
      ]
     },
     "execution_count": 327,
     "metadata": {},
     "output_type": "execute_result"
    }
   ],
   "source": [
    "data.head()"
   ]
  },
  {
   "cell_type": "code",
   "execution_count": 328,
   "metadata": {},
   "outputs": [
    {
     "data": {
      "text/plain": [
       "Cement (component 1)(kg in a m^3 mixture)                0\n",
       "Blast Furnace Slag (component 2)(kg in a m^3 mixture)    0\n",
       "Fly Ash (component 3)(kg in a m^3 mixture)               0\n",
       "Water  (component 4)(kg in a m^3 mixture)                0\n",
       "Superplasticizer (component 5)(kg in a m^3 mixture)      0\n",
       "Coarse Aggregate  (component 6)(kg in a m^3 mixture)     0\n",
       "Fine Aggregate (component 7)(kg in a m^3 mixture)        0\n",
       "Age (day)                                                0\n",
       "Concrete compressive strength(MPa, megapascals)          0\n",
       "dtype: int64"
      ]
     },
     "execution_count": 328,
     "metadata": {},
     "output_type": "execute_result"
    }
   ],
   "source": [
    "data.isnull().sum()"
   ]
  },
  {
   "cell_type": "code",
   "execution_count": 329,
   "metadata": {},
   "outputs": [
    {
     "data": {
      "text/plain": [
       "(array([], dtype=int64), array([], dtype=int64))"
      ]
     },
     "execution_count": 329,
     "metadata": {},
     "output_type": "execute_result"
    }
   ],
   "source": [
    "np.where(data.applymap(lambda x: x == ''))"
   ]
  },
  {
   "cell_type": "code",
   "execution_count": null,
   "metadata": {},
   "outputs": [],
   "source": []
  },
  {
   "cell_type": "code",
   "execution_count": 330,
   "metadata": {},
   "outputs": [],
   "source": [
    "X_train = data.sample(frac = 0.7, random_state = 123)\n",
    "X_test = data.drop(X_train.index)"
   ]
  },
  {
   "cell_type": "code",
   "execution_count": 331,
   "metadata": {},
   "outputs": [
    {
     "data": {
      "text/html": [
       "<div>\n",
       "<style scoped>\n",
       "    .dataframe tbody tr th:only-of-type {\n",
       "        vertical-align: middle;\n",
       "    }\n",
       "\n",
       "    .dataframe tbody tr th {\n",
       "        vertical-align: top;\n",
       "    }\n",
       "\n",
       "    .dataframe thead th {\n",
       "        text-align: right;\n",
       "    }\n",
       "</style>\n",
       "<table border=\"1\" class=\"dataframe\">\n",
       "  <thead>\n",
       "    <tr style=\"text-align: right;\">\n",
       "      <th></th>\n",
       "      <th>Cement (component 1)(kg in a m^3 mixture)</th>\n",
       "      <th>Blast Furnace Slag (component 2)(kg in a m^3 mixture)</th>\n",
       "      <th>Fly Ash (component 3)(kg in a m^3 mixture)</th>\n",
       "      <th>Water  (component 4)(kg in a m^3 mixture)</th>\n",
       "      <th>Superplasticizer (component 5)(kg in a m^3 mixture)</th>\n",
       "      <th>Coarse Aggregate  (component 6)(kg in a m^3 mixture)</th>\n",
       "      <th>Fine Aggregate (component 7)(kg in a m^3 mixture)</th>\n",
       "      <th>Age (day)</th>\n",
       "      <th>Concrete compressive strength(MPa, megapascals)</th>\n",
       "    </tr>\n",
       "  </thead>\n",
       "  <tbody>\n",
       "    <tr>\n",
       "      <th>134</th>\n",
       "      <td>362.6</td>\n",
       "      <td>189.0</td>\n",
       "      <td>0.0</td>\n",
       "      <td>164.9</td>\n",
       "      <td>11.6</td>\n",
       "      <td>944.7</td>\n",
       "      <td>755.8</td>\n",
       "      <td>28</td>\n",
       "      <td>71.30</td>\n",
       "    </tr>\n",
       "    <tr>\n",
       "      <th>13</th>\n",
       "      <td>190.0</td>\n",
       "      <td>190.0</td>\n",
       "      <td>0.0</td>\n",
       "      <td>228.0</td>\n",
       "      <td>0.0</td>\n",
       "      <td>932.0</td>\n",
       "      <td>670.0</td>\n",
       "      <td>90</td>\n",
       "      <td>42.33</td>\n",
       "    </tr>\n",
       "    <tr>\n",
       "      <th>996</th>\n",
       "      <td>152.6</td>\n",
       "      <td>238.7</td>\n",
       "      <td>0.0</td>\n",
       "      <td>200.0</td>\n",
       "      <td>6.3</td>\n",
       "      <td>1001.8</td>\n",
       "      <td>683.9</td>\n",
       "      <td>28</td>\n",
       "      <td>26.86</td>\n",
       "    </tr>\n",
       "    <tr>\n",
       "      <th>770</th>\n",
       "      <td>349.0</td>\n",
       "      <td>0.0</td>\n",
       "      <td>0.0</td>\n",
       "      <td>192.0</td>\n",
       "      <td>0.0</td>\n",
       "      <td>1047.0</td>\n",
       "      <td>806.0</td>\n",
       "      <td>3</td>\n",
       "      <td>14.99</td>\n",
       "    </tr>\n",
       "    <tr>\n",
       "      <th>937</th>\n",
       "      <td>313.3</td>\n",
       "      <td>0.0</td>\n",
       "      <td>113.0</td>\n",
       "      <td>178.5</td>\n",
       "      <td>8.0</td>\n",
       "      <td>1001.9</td>\n",
       "      <td>688.7</td>\n",
       "      <td>28</td>\n",
       "      <td>36.80</td>\n",
       "    </tr>\n",
       "  </tbody>\n",
       "</table>\n",
       "</div>"
      ],
      "text/plain": [
       "     Cement (component 1)(kg in a m^3 mixture)  \\\n",
       "134                                      362.6   \n",
       "13                                       190.0   \n",
       "996                                      152.6   \n",
       "770                                      349.0   \n",
       "937                                      313.3   \n",
       "\n",
       "     Blast Furnace Slag (component 2)(kg in a m^3 mixture)  \\\n",
       "134                                              189.0       \n",
       "13                                               190.0       \n",
       "996                                              238.7       \n",
       "770                                                0.0       \n",
       "937                                                0.0       \n",
       "\n",
       "     Fly Ash (component 3)(kg in a m^3 mixture)  \\\n",
       "134                                         0.0   \n",
       "13                                          0.0   \n",
       "996                                         0.0   \n",
       "770                                         0.0   \n",
       "937                                       113.0   \n",
       "\n",
       "     Water  (component 4)(kg in a m^3 mixture)  \\\n",
       "134                                      164.9   \n",
       "13                                       228.0   \n",
       "996                                      200.0   \n",
       "770                                      192.0   \n",
       "937                                      178.5   \n",
       "\n",
       "     Superplasticizer (component 5)(kg in a m^3 mixture)  \\\n",
       "134                                               11.6     \n",
       "13                                                 0.0     \n",
       "996                                                6.3     \n",
       "770                                                0.0     \n",
       "937                                                8.0     \n",
       "\n",
       "     Coarse Aggregate  (component 6)(kg in a m^3 mixture)  \\\n",
       "134                                              944.7      \n",
       "13                                               932.0      \n",
       "996                                             1001.8      \n",
       "770                                             1047.0      \n",
       "937                                             1001.9      \n",
       "\n",
       "     Fine Aggregate (component 7)(kg in a m^3 mixture)  Age (day)  \\\n",
       "134                                              755.8         28   \n",
       "13                                               670.0         90   \n",
       "996                                              683.9         28   \n",
       "770                                              806.0          3   \n",
       "937                                              688.7         28   \n",
       "\n",
       "     Concrete compressive strength(MPa, megapascals)   \n",
       "134                                             71.30  \n",
       "13                                              42.33  \n",
       "996                                             26.86  \n",
       "770                                             14.99  \n",
       "937                                             36.80  "
      ]
     },
     "execution_count": 331,
     "metadata": {},
     "output_type": "execute_result"
    }
   ],
   "source": [
    "X_train.head()"
   ]
  },
  {
   "cell_type": "markdown",
   "metadata": {
    "id": "CcvbbUpmJFCi"
   },
   "source": [
    "#Assigning features and target variable"
   ]
  },
  {
   "cell_type": "code",
   "execution_count": 332,
   "metadata": {
    "id": "OTv_VabYIj83"
   },
   "outputs": [],
   "source": [
    "Y_train = X_train.iloc[:,-1]\n",
    "X_train = X_train.iloc[:,0:-1]\n",
    "Y_test = X_test.iloc[:,-1]\n",
    "X_test = X_test.iloc[:,0:-1]"
   ]
  },
  {
   "cell_type": "code",
   "execution_count": 333,
   "metadata": {
    "id": "KHF-Yeo2JTyg"
   },
   "outputs": [],
   "source": [
    "X_mean = X_train.mean()\n",
    "X_train -= X_mean\n",
    "X_std = X_train.std()\n",
    "X_train /= X_std\n",
    "X_test -= X_mean\n",
    "X_test /= X_std"
   ]
  },
  {
   "cell_type": "code",
   "execution_count": 334,
   "metadata": {},
   "outputs": [],
   "source": [
    "Y_mean = Y_train.mean()\n",
    "Y_train -= Y_mean\n",
    "Y_std = Y_train.std()\n",
    "Y_train /= Y_std\n",
    "Y_test -= Y_mean\n",
    "Y_test /= Y_std"
   ]
  },
  {
   "cell_type": "code",
   "execution_count": 335,
   "metadata": {},
   "outputs": [
    {
     "data": {
      "text/plain": [
       "Cement (component 1)(kg in a m^3 mixture)                float64\n",
       "Blast Furnace Slag (component 2)(kg in a m^3 mixture)    float64\n",
       "Fly Ash (component 3)(kg in a m^3 mixture)               float64\n",
       "Water  (component 4)(kg in a m^3 mixture)                float64\n",
       "Superplasticizer (component 5)(kg in a m^3 mixture)      float64\n",
       "Coarse Aggregate  (component 6)(kg in a m^3 mixture)     float64\n",
       "Fine Aggregate (component 7)(kg in a m^3 mixture)        float64\n",
       "Age (day)                                                float64\n",
       "dtype: object"
      ]
     },
     "execution_count": 335,
     "metadata": {},
     "output_type": "execute_result"
    }
   ],
   "source": [
    "X_train.dtypes"
   ]
  },
  {
   "cell_type": "code",
   "execution_count": 336,
   "metadata": {},
   "outputs": [],
   "source": [
    "X_train = X_train.to_numpy()\n",
    "Y_train = Y_train.to_numpy()\n",
    "X_test = X_test.to_numpy()\n",
    "Y_test = Y_test.to_numpy()\n"
   ]
  },
  {
   "cell_type": "markdown",
   "metadata": {
    "id": "Lj_iCk5vL5E7"
   },
   "source": [
    "#Training and testing data splittion"
   ]
  },
  {
   "cell_type": "markdown",
   "metadata": {
    "id": "_LMH3tMeMbXN"
   },
   "source": [
    "#Model selection"
   ]
  },
  {
   "cell_type": "code",
   "execution_count": 337,
   "metadata": {
    "id": "N71E3GgCMTCO"
   },
   "outputs": [],
   "source": [
    "from tensorflow.keras import layers as L\n",
    "from tensorflow.keras import models as M"
   ]
  },
  {
   "cell_type": "code",
   "execution_count": 338,
   "metadata": {
    "id": "PZIj7pgIMhcg"
   },
   "outputs": [],
   "source": [
    "network = M.Sequential()"
   ]
  },
  {
   "cell_type": "code",
   "execution_count": 339,
   "metadata": {
    "id": "jcIypzdFMrDX"
   },
   "outputs": [],
   "source": [
    "network.add(L.Dense(128,activation=\"relu\",input_shape=(X_train.shape[1],)))"
   ]
  },
  {
   "cell_type": "code",
   "execution_count": 340,
   "metadata": {
    "id": "gl8qko4FM3j4"
   },
   "outputs": [],
   "source": [
    "network.add(L.Dense(64,activation=\"relu\"))"
   ]
  },
  {
   "cell_type": "code",
   "execution_count": 341,
   "metadata": {
    "id": "LQ2VEXd9M8Uw"
   },
   "outputs": [],
   "source": [
    "network.add(L.Dense(32,activation=\"relu\"))"
   ]
  },
  {
   "cell_type": "code",
   "execution_count": 342,
   "metadata": {
    "id": "yWUmN_KvNCno"
   },
   "outputs": [],
   "source": [
    "network.add(L.Dense(1))"
   ]
  },
  {
   "cell_type": "code",
   "execution_count": 343,
   "metadata": {
    "id": "zSyeoyk0Nsa2"
   },
   "outputs": [],
   "source": [
    "network.compile(optimizer=\"rmsprop\",loss=[\"mse\"],metrics=[\"mae\"])"
   ]
  },
  {
   "cell_type": "code",
   "execution_count": 344,
   "metadata": {
    "colab": {
     "base_uri": "https://localhost:8080/"
    },
    "id": "E8cCCFviOKuF",
    "outputId": "c6eebdfa-f576-4106-ec4b-38cba2572df0"
   },
   "outputs": [
    {
     "name": "stdout",
     "output_type": "stream",
     "text": [
      "Epoch 1/200\n",
      "16/16 [==============================] - 2s 25ms/step - loss: 0.7200 - mae: 0.6775 - val_loss: 0.4648 - val_mae: 0.5594\n",
      "Epoch 2/200\n",
      "16/16 [==============================] - 0s 8ms/step - loss: 0.3484 - mae: 0.4850 - val_loss: 0.3505 - val_mae: 0.4800\n",
      "Epoch 3/200\n",
      "16/16 [==============================] - 0s 8ms/step - loss: 0.2451 - mae: 0.4014 - val_loss: 0.2978 - val_mae: 0.4294\n",
      "Epoch 4/200\n",
      "16/16 [==============================] - 0s 8ms/step - loss: 0.1937 - mae: 0.3486 - val_loss: 0.2695 - val_mae: 0.4026\n",
      "Epoch 5/200\n",
      "16/16 [==============================] - 0s 9ms/step - loss: 0.1981 - mae: 0.3521 - val_loss: 0.2446 - val_mae: 0.3752\n",
      "Epoch 6/200\n",
      "16/16 [==============================] - 0s 8ms/step - loss: 0.1720 - mae: 0.3251 - val_loss: 0.2422 - val_mae: 0.3742\n",
      "Epoch 7/200\n",
      "16/16 [==============================] - 0s 8ms/step - loss: 0.1459 - mae: 0.2986 - val_loss: 0.2208 - val_mae: 0.3561\n",
      "Epoch 8/200\n",
      "16/16 [==============================] - 0s 8ms/step - loss: 0.1544 - mae: 0.3035 - val_loss: 0.2430 - val_mae: 0.3621\n",
      "Epoch 9/200\n",
      "16/16 [==============================] - 0s 8ms/step - loss: 0.1365 - mae: 0.2868 - val_loss: 0.2026 - val_mae: 0.3428\n",
      "Epoch 10/200\n",
      "16/16 [==============================] - 0s 8ms/step - loss: 0.1127 - mae: 0.2673 - val_loss: 0.2065 - val_mae: 0.3496\n",
      "Epoch 11/200\n",
      "16/16 [==============================] - 0s 8ms/step - loss: 0.1233 - mae: 0.2694 - val_loss: 0.2115 - val_mae: 0.3521\n",
      "Epoch 12/200\n",
      "16/16 [==============================] - 0s 7ms/step - loss: 0.1150 - mae: 0.2558 - val_loss: 0.1948 - val_mae: 0.3283\n",
      "Epoch 13/200\n",
      "16/16 [==============================] - 0s 8ms/step - loss: 0.0931 - mae: 0.2436 - val_loss: 0.2025 - val_mae: 0.3334\n",
      "Epoch 14/200\n",
      "16/16 [==============================] - 0s 8ms/step - loss: 0.0939 - mae: 0.2327 - val_loss: 0.1879 - val_mae: 0.3261\n",
      "Epoch 15/200\n",
      "16/16 [==============================] - 0s 8ms/step - loss: 0.0916 - mae: 0.2327 - val_loss: 0.1729 - val_mae: 0.3170\n",
      "Epoch 16/200\n",
      "16/16 [==============================] - 0s 8ms/step - loss: 0.0919 - mae: 0.2291 - val_loss: 0.1754 - val_mae: 0.3157\n",
      "Epoch 17/200\n",
      "16/16 [==============================] - 0s 8ms/step - loss: 0.0816 - mae: 0.2186 - val_loss: 0.1811 - val_mae: 0.3231\n",
      "Epoch 18/200\n",
      "16/16 [==============================] - 0s 8ms/step - loss: 0.0793 - mae: 0.2134 - val_loss: 0.1741 - val_mae: 0.3145\n",
      "Epoch 19/200\n",
      "16/16 [==============================] - 0s 8ms/step - loss: 0.0671 - mae: 0.2026 - val_loss: 0.1785 - val_mae: 0.3121\n",
      "Epoch 20/200\n",
      "16/16 [==============================] - 0s 8ms/step - loss: 0.0733 - mae: 0.2022 - val_loss: 0.1765 - val_mae: 0.3173\n",
      "Epoch 21/200\n",
      "16/16 [==============================] - 0s 7ms/step - loss: 0.0667 - mae: 0.1996 - val_loss: 0.1560 - val_mae: 0.2970\n",
      "Epoch 22/200\n",
      "16/16 [==============================] - 0s 8ms/step - loss: 0.0710 - mae: 0.2012 - val_loss: 0.1705 - val_mae: 0.3063\n",
      "Epoch 23/200\n",
      "16/16 [==============================] - 0s 8ms/step - loss: 0.0664 - mae: 0.1907 - val_loss: 0.1723 - val_mae: 0.3061\n",
      "Epoch 24/200\n",
      "16/16 [==============================] - 0s 8ms/step - loss: 0.0625 - mae: 0.1878 - val_loss: 0.1641 - val_mae: 0.2999\n",
      "Epoch 25/200\n",
      "16/16 [==============================] - 0s 8ms/step - loss: 0.0556 - mae: 0.1829 - val_loss: 0.1784 - val_mae: 0.3244\n",
      "Epoch 26/200\n",
      "16/16 [==============================] - 0s 8ms/step - loss: 0.0660 - mae: 0.2014 - val_loss: 0.1511 - val_mae: 0.2903\n",
      "Epoch 27/200\n",
      "16/16 [==============================] - 0s 8ms/step - loss: 0.0602 - mae: 0.1883 - val_loss: 0.1668 - val_mae: 0.3111\n",
      "Epoch 28/200\n",
      "16/16 [==============================] - 0s 8ms/step - loss: 0.0597 - mae: 0.1896 - val_loss: 0.1463 - val_mae: 0.2918\n",
      "Epoch 29/200\n",
      "16/16 [==============================] - 0s 8ms/step - loss: 0.0639 - mae: 0.1913 - val_loss: 0.1424 - val_mae: 0.2835\n",
      "Epoch 30/200\n",
      "16/16 [==============================] - 0s 8ms/step - loss: 0.0532 - mae: 0.1777 - val_loss: 0.1484 - val_mae: 0.2859\n",
      "Epoch 31/200\n",
      "16/16 [==============================] - 0s 7ms/step - loss: 0.0482 - mae: 0.1642 - val_loss: 0.1490 - val_mae: 0.2844\n",
      "Epoch 32/200\n",
      "16/16 [==============================] - 0s 7ms/step - loss: 0.0482 - mae: 0.1663 - val_loss: 0.1463 - val_mae: 0.2859\n",
      "Epoch 33/200\n",
      "16/16 [==============================] - 0s 9ms/step - loss: 0.0454 - mae: 0.1574 - val_loss: 0.1438 - val_mae: 0.2814\n",
      "Epoch 34/200\n",
      "16/16 [==============================] - 0s 8ms/step - loss: 0.0475 - mae: 0.1640 - val_loss: 0.1323 - val_mae: 0.2753\n",
      "Epoch 35/200\n",
      "16/16 [==============================] - 0s 8ms/step - loss: 0.0570 - mae: 0.1817 - val_loss: 0.1396 - val_mae: 0.2712\n",
      "Epoch 36/200\n",
      "16/16 [==============================] - 0s 7ms/step - loss: 0.0460 - mae: 0.1617 - val_loss: 0.1387 - val_mae: 0.2833\n",
      "Epoch 37/200\n",
      "16/16 [==============================] - 0s 8ms/step - loss: 0.0461 - mae: 0.1554 - val_loss: 0.1362 - val_mae: 0.2751\n",
      "Epoch 38/200\n",
      "16/16 [==============================] - 0s 8ms/step - loss: 0.0357 - mae: 0.1424 - val_loss: 0.1423 - val_mae: 0.2788\n",
      "Epoch 39/200\n",
      "16/16 [==============================] - 0s 8ms/step - loss: 0.0434 - mae: 0.1552 - val_loss: 0.1552 - val_mae: 0.2977\n",
      "Epoch 40/200\n",
      "16/16 [==============================] - 0s 8ms/step - loss: 0.0533 - mae: 0.1753 - val_loss: 0.1456 - val_mae: 0.2823\n",
      "Epoch 41/200\n",
      "16/16 [==============================] - 0s 8ms/step - loss: 0.0493 - mae: 0.1665 - val_loss: 0.1389 - val_mae: 0.2767\n",
      "Epoch 42/200\n",
      "16/16 [==============================] - 0s 8ms/step - loss: 0.0430 - mae: 0.1567 - val_loss: 0.1339 - val_mae: 0.2711\n",
      "Epoch 43/200\n",
      "16/16 [==============================] - 0s 8ms/step - loss: 0.0400 - mae: 0.1438 - val_loss: 0.1268 - val_mae: 0.2643\n",
      "Epoch 44/200\n",
      "16/16 [==============================] - 0s 7ms/step - loss: 0.0315 - mae: 0.1371 - val_loss: 0.1489 - val_mae: 0.2891\n",
      "Epoch 45/200\n",
      "16/16 [==============================] - 0s 8ms/step - loss: 0.0473 - mae: 0.1695 - val_loss: 0.1273 - val_mae: 0.2647\n",
      "Epoch 46/200\n",
      "16/16 [==============================] - 0s 8ms/step - loss: 0.0382 - mae: 0.1457 - val_loss: 0.1364 - val_mae: 0.2838\n",
      "Epoch 47/200\n",
      "16/16 [==============================] - 0s 8ms/step - loss: 0.0342 - mae: 0.1421 - val_loss: 0.1456 - val_mae: 0.2784\n",
      "Epoch 48/200\n",
      "16/16 [==============================] - 0s 8ms/step - loss: 0.0390 - mae: 0.1545 - val_loss: 0.1368 - val_mae: 0.2733\n",
      "Epoch 49/200\n",
      "16/16 [==============================] - 0s 7ms/step - loss: 0.0360 - mae: 0.1462 - val_loss: 0.1759 - val_mae: 0.2982\n",
      "Epoch 50/200\n",
      "16/16 [==============================] - 0s 9ms/step - loss: 0.0525 - mae: 0.1699 - val_loss: 0.1356 - val_mae: 0.2716\n",
      "Epoch 51/200\n",
      "16/16 [==============================] - 0s 8ms/step - loss: 0.0416 - mae: 0.1553 - val_loss: 0.1406 - val_mae: 0.2756\n",
      "Epoch 52/200\n",
      "16/16 [==============================] - 0s 8ms/step - loss: 0.0390 - mae: 0.1473 - val_loss: 0.1490 - val_mae: 0.2794\n",
      "Epoch 53/200\n",
      "16/16 [==============================] - 0s 8ms/step - loss: 0.0377 - mae: 0.1484 - val_loss: 0.1335 - val_mae: 0.2715\n",
      "Epoch 54/200\n",
      "16/16 [==============================] - 0s 8ms/step - loss: 0.0464 - mae: 0.1661 - val_loss: 0.1209 - val_mae: 0.2564\n",
      "Epoch 55/200\n",
      "16/16 [==============================] - 0s 9ms/step - loss: 0.0441 - mae: 0.1537 - val_loss: 0.1254 - val_mae: 0.2639\n",
      "Epoch 56/200\n",
      "16/16 [==============================] - 0s 9ms/step - loss: 0.0355 - mae: 0.1376 - val_loss: 0.1202 - val_mae: 0.2591\n",
      "Epoch 57/200\n",
      "16/16 [==============================] - 0s 9ms/step - loss: 0.0383 - mae: 0.1425 - val_loss: 0.1266 - val_mae: 0.2604\n",
      "Epoch 58/200\n",
      "16/16 [==============================] - 0s 10ms/step - loss: 0.0339 - mae: 0.1404 - val_loss: 0.1460 - val_mae: 0.2955\n",
      "Epoch 59/200\n",
      "16/16 [==============================] - 0s 9ms/step - loss: 0.0554 - mae: 0.1738 - val_loss: 0.1190 - val_mae: 0.2546\n",
      "Epoch 60/200\n",
      "16/16 [==============================] - 0s 8ms/step - loss: 0.0297 - mae: 0.1280 - val_loss: 0.1331 - val_mae: 0.2707\n",
      "Epoch 61/200\n",
      "16/16 [==============================] - 0s 10ms/step - loss: 0.0371 - mae: 0.1427 - val_loss: 0.1553 - val_mae: 0.2985\n",
      "Epoch 62/200\n",
      "16/16 [==============================] - 0s 9ms/step - loss: 0.0536 - mae: 0.1725 - val_loss: 0.1292 - val_mae: 0.2639\n",
      "Epoch 63/200\n",
      "16/16 [==============================] - 0s 10ms/step - loss: 0.0376 - mae: 0.1395 - val_loss: 0.1394 - val_mae: 0.2753\n",
      "Epoch 64/200\n",
      "16/16 [==============================] - 0s 10ms/step - loss: 0.0508 - mae: 0.1653 - val_loss: 0.1373 - val_mae: 0.2692\n",
      "Epoch 65/200\n",
      "16/16 [==============================] - 0s 9ms/step - loss: 0.0343 - mae: 0.1355 - val_loss: 0.1288 - val_mae: 0.2638\n",
      "Epoch 66/200\n",
      "16/16 [==============================] - 0s 9ms/step - loss: 0.0355 - mae: 0.1420 - val_loss: 0.1354 - val_mae: 0.2666\n",
      "Epoch 67/200\n",
      "16/16 [==============================] - 0s 9ms/step - loss: 0.0395 - mae: 0.1497 - val_loss: 0.1428 - val_mae: 0.2814\n",
      "Epoch 68/200\n",
      "16/16 [==============================] - 0s 9ms/step - loss: 0.0289 - mae: 0.1257 - val_loss: 0.1316 - val_mae: 0.2666\n",
      "Epoch 69/200\n",
      "16/16 [==============================] - 0s 8ms/step - loss: 0.0392 - mae: 0.1449 - val_loss: 0.1273 - val_mae: 0.2593\n",
      "Epoch 70/200\n",
      "16/16 [==============================] - 0s 10ms/step - loss: 0.0355 - mae: 0.1405 - val_loss: 0.1286 - val_mae: 0.2575\n",
      "Epoch 71/200\n",
      "16/16 [==============================] - 0s 9ms/step - loss: 0.0316 - mae: 0.1293 - val_loss: 0.1251 - val_mae: 0.2584\n",
      "Epoch 72/200\n",
      "16/16 [==============================] - 0s 8ms/step - loss: 0.0296 - mae: 0.1289 - val_loss: 0.1359 - val_mae: 0.2679\n",
      "Epoch 73/200\n",
      "16/16 [==============================] - 0s 9ms/step - loss: 0.0385 - mae: 0.1486 - val_loss: 0.1299 - val_mae: 0.2622\n",
      "Epoch 74/200\n",
      "16/16 [==============================] - 0s 9ms/step - loss: 0.0350 - mae: 0.1340 - val_loss: 0.1242 - val_mae: 0.2565\n",
      "Epoch 75/200\n",
      "16/16 [==============================] - 0s 9ms/step - loss: 0.0341 - mae: 0.1377 - val_loss: 0.1317 - val_mae: 0.2684\n",
      "Epoch 76/200\n",
      "16/16 [==============================] - 0s 10ms/step - loss: 0.0324 - mae: 0.1361 - val_loss: 0.1294 - val_mae: 0.2614\n",
      "Epoch 77/200\n",
      "16/16 [==============================] - 0s 9ms/step - loss: 0.0276 - mae: 0.1180 - val_loss: 0.1327 - val_mae: 0.2612\n",
      "Epoch 78/200\n",
      "16/16 [==============================] - 0s 8ms/step - loss: 0.0309 - mae: 0.1249 - val_loss: 0.1460 - val_mae: 0.2807\n",
      "Epoch 79/200\n",
      "16/16 [==============================] - 0s 9ms/step - loss: 0.0352 - mae: 0.1351 - val_loss: 0.1232 - val_mae: 0.2559\n",
      "Epoch 80/200\n",
      "16/16 [==============================] - 0s 8ms/step - loss: 0.0297 - mae: 0.1219 - val_loss: 0.1193 - val_mae: 0.2515\n",
      "Epoch 81/200\n",
      "16/16 [==============================] - 0s 7ms/step - loss: 0.0376 - mae: 0.1416 - val_loss: 0.1240 - val_mae: 0.2544\n",
      "Epoch 82/200\n",
      "16/16 [==============================] - 0s 8ms/step - loss: 0.0305 - mae: 0.1233 - val_loss: 0.1344 - val_mae: 0.2671\n",
      "Epoch 83/200\n",
      "16/16 [==============================] - 0s 10ms/step - loss: 0.0321 - mae: 0.1352 - val_loss: 0.1250 - val_mae: 0.2707\n",
      "Epoch 84/200\n",
      "16/16 [==============================] - 0s 11ms/step - loss: 0.0285 - mae: 0.1255 - val_loss: 0.1164 - val_mae: 0.2527\n",
      "Epoch 85/200\n",
      "16/16 [==============================] - 0s 11ms/step - loss: 0.0254 - mae: 0.1117 - val_loss: 0.1261 - val_mae: 0.2542\n",
      "Epoch 86/200\n",
      "16/16 [==============================] - 0s 9ms/step - loss: 0.0257 - mae: 0.1123 - val_loss: 0.1246 - val_mae: 0.2542\n",
      "Epoch 87/200\n",
      "16/16 [==============================] - 0s 8ms/step - loss: 0.0304 - mae: 0.1212 - val_loss: 0.1371 - val_mae: 0.2710\n",
      "Epoch 88/200\n",
      "16/16 [==============================] - 0s 7ms/step - loss: 0.0455 - mae: 0.1615 - val_loss: 0.1244 - val_mae: 0.2569\n",
      "Epoch 89/200\n",
      "16/16 [==============================] - 0s 8ms/step - loss: 0.0323 - mae: 0.1307 - val_loss: 0.1184 - val_mae: 0.2506\n",
      "Epoch 90/200\n",
      "16/16 [==============================] - 0s 7ms/step - loss: 0.0258 - mae: 0.1140 - val_loss: 0.1218 - val_mae: 0.2577\n",
      "Epoch 91/200\n",
      "16/16 [==============================] - 0s 8ms/step - loss: 0.0302 - mae: 0.1259 - val_loss: 0.1171 - val_mae: 0.2444\n",
      "Epoch 92/200\n",
      "16/16 [==============================] - 0s 9ms/step - loss: 0.0318 - mae: 0.1381 - val_loss: 0.1252 - val_mae: 0.2516\n",
      "Epoch 93/200\n",
      "16/16 [==============================] - 0s 9ms/step - loss: 0.0394 - mae: 0.1415 - val_loss: 0.1285 - val_mae: 0.2577\n",
      "Epoch 94/200\n",
      "16/16 [==============================] - 0s 8ms/step - loss: 0.0237 - mae: 0.1107 - val_loss: 0.1272 - val_mae: 0.2638\n",
      "Epoch 95/200\n",
      "16/16 [==============================] - 0s 8ms/step - loss: 0.0351 - mae: 0.1323 - val_loss: 0.1352 - val_mae: 0.2762\n",
      "Epoch 96/200\n",
      "16/16 [==============================] - 0s 8ms/step - loss: 0.0264 - mae: 0.1192 - val_loss: 0.1612 - val_mae: 0.3086\n",
      "Epoch 97/200\n",
      "16/16 [==============================] - 0s 8ms/step - loss: 0.0356 - mae: 0.1389 - val_loss: 0.1308 - val_mae: 0.2638\n",
      "Epoch 98/200\n",
      "16/16 [==============================] - 0s 8ms/step - loss: 0.0277 - mae: 0.1221 - val_loss: 0.1221 - val_mae: 0.2553\n",
      "Epoch 99/200\n",
      "16/16 [==============================] - 0s 9ms/step - loss: 0.0290 - mae: 0.1211 - val_loss: 0.1247 - val_mae: 0.2573\n",
      "Epoch 100/200\n",
      "16/16 [==============================] - 0s 10ms/step - loss: 0.0249 - mae: 0.1127 - val_loss: 0.1244 - val_mae: 0.2614\n",
      "Epoch 101/200\n",
      "16/16 [==============================] - 0s 11ms/step - loss: 0.0332 - mae: 0.1360 - val_loss: 0.1301 - val_mae: 0.2670\n",
      "Epoch 102/200\n",
      "16/16 [==============================] - 0s 8ms/step - loss: 0.0282 - mae: 0.1237 - val_loss: 0.1188 - val_mae: 0.2476\n",
      "Epoch 103/200\n",
      "16/16 [==============================] - 0s 10ms/step - loss: 0.0281 - mae: 0.1236 - val_loss: 0.1224 - val_mae: 0.2479\n",
      "Epoch 104/200\n",
      "16/16 [==============================] - 0s 11ms/step - loss: 0.0238 - mae: 0.1114 - val_loss: 0.1222 - val_mae: 0.2578\n",
      "Epoch 105/200\n",
      "16/16 [==============================] - 0s 9ms/step - loss: 0.0304 - mae: 0.1216 - val_loss: 0.1373 - val_mae: 0.2716\n",
      "Epoch 106/200\n",
      "16/16 [==============================] - 0s 8ms/step - loss: 0.0308 - mae: 0.1262 - val_loss: 0.1226 - val_mae: 0.2587\n",
      "Epoch 107/200\n",
      "16/16 [==============================] - 0s 10ms/step - loss: 0.0303 - mae: 0.1230 - val_loss: 0.1329 - val_mae: 0.2702\n",
      "Epoch 108/200\n",
      "16/16 [==============================] - 0s 10ms/step - loss: 0.0384 - mae: 0.1415 - val_loss: 0.1234 - val_mae: 0.2538\n",
      "Epoch 109/200\n",
      "16/16 [==============================] - 0s 8ms/step - loss: 0.0267 - mae: 0.1201 - val_loss: 0.1201 - val_mae: 0.2496\n",
      "Epoch 110/200\n",
      "16/16 [==============================] - 0s 8ms/step - loss: 0.0278 - mae: 0.1145 - val_loss: 0.1354 - val_mae: 0.2667\n",
      "Epoch 111/200\n",
      "16/16 [==============================] - 0s 10ms/step - loss: 0.0294 - mae: 0.1216 - val_loss: 0.1226 - val_mae: 0.2663\n",
      "Epoch 112/200\n",
      "16/16 [==============================] - 0s 9ms/step - loss: 0.0196 - mae: 0.1009 - val_loss: 0.1289 - val_mae: 0.2610\n",
      "Epoch 113/200\n",
      "16/16 [==============================] - 0s 8ms/step - loss: 0.0325 - mae: 0.1310 - val_loss: 0.1233 - val_mae: 0.2486\n",
      "Epoch 114/200\n",
      "16/16 [==============================] - 0s 8ms/step - loss: 0.0235 - mae: 0.1044 - val_loss: 0.1275 - val_mae: 0.2615\n",
      "Epoch 115/200\n",
      "16/16 [==============================] - 0s 11ms/step - loss: 0.0304 - mae: 0.1218 - val_loss: 0.1183 - val_mae: 0.2465\n",
      "Epoch 116/200\n",
      "16/16 [==============================] - 0s 9ms/step - loss: 0.0179 - mae: 0.0949 - val_loss: 0.1145 - val_mae: 0.2455\n",
      "Epoch 117/200\n",
      "16/16 [==============================] - 0s 7ms/step - loss: 0.0345 - mae: 0.1296 - val_loss: 0.1185 - val_mae: 0.2470\n",
      "Epoch 118/200\n",
      "16/16 [==============================] - 0s 9ms/step - loss: 0.0321 - mae: 0.1194 - val_loss: 0.1264 - val_mae: 0.2565\n",
      "Epoch 119/200\n",
      "16/16 [==============================] - 0s 10ms/step - loss: 0.0335 - mae: 0.1339 - val_loss: 0.1180 - val_mae: 0.2528\n",
      "Epoch 120/200\n",
      "16/16 [==============================] - 0s 9ms/step - loss: 0.0254 - mae: 0.1143 - val_loss: 0.1146 - val_mae: 0.2425\n",
      "Epoch 121/200\n",
      "16/16 [==============================] - 0s 7ms/step - loss: 0.0263 - mae: 0.1153 - val_loss: 0.1173 - val_mae: 0.2440\n",
      "Epoch 122/200\n",
      "16/16 [==============================] - 0s 8ms/step - loss: 0.0257 - mae: 0.1068 - val_loss: 0.1337 - val_mae: 0.2647\n",
      "Epoch 123/200\n",
      "16/16 [==============================] - 0s 8ms/step - loss: 0.0256 - mae: 0.1192 - val_loss: 0.1209 - val_mae: 0.2569\n",
      "Epoch 124/200\n",
      "16/16 [==============================] - 0s 7ms/step - loss: 0.0250 - mae: 0.1144 - val_loss: 0.1274 - val_mae: 0.2467\n",
      "Epoch 125/200\n",
      "16/16 [==============================] - 0s 7ms/step - loss: 0.0320 - mae: 0.1172 - val_loss: 0.1168 - val_mae: 0.2430\n",
      "Epoch 126/200\n",
      "16/16 [==============================] - 0s 8ms/step - loss: 0.0258 - mae: 0.1116 - val_loss: 0.1217 - val_mae: 0.2510\n",
      "Epoch 127/200\n",
      "16/16 [==============================] - 0s 7ms/step - loss: 0.0273 - mae: 0.1198 - val_loss: 0.1330 - val_mae: 0.2626\n",
      "Epoch 128/200\n",
      "16/16 [==============================] - 0s 8ms/step - loss: 0.0279 - mae: 0.1183 - val_loss: 0.1508 - val_mae: 0.2944\n",
      "Epoch 129/200\n",
      "16/16 [==============================] - 0s 10ms/step - loss: 0.0250 - mae: 0.1120 - val_loss: 0.1191 - val_mae: 0.2464\n",
      "Epoch 130/200\n",
      "16/16 [==============================] - 0s 9ms/step - loss: 0.0349 - mae: 0.1307 - val_loss: 0.1166 - val_mae: 0.2490\n",
      "Epoch 131/200\n",
      "16/16 [==============================] - 0s 8ms/step - loss: 0.0174 - mae: 0.0952 - val_loss: 0.1371 - val_mae: 0.2720\n",
      "Epoch 132/200\n",
      "16/16 [==============================] - 0s 7ms/step - loss: 0.0310 - mae: 0.1200 - val_loss: 0.1350 - val_mae: 0.2712\n",
      "Epoch 133/200\n",
      "16/16 [==============================] - 0s 8ms/step - loss: 0.0284 - mae: 0.1239 - val_loss: 0.1169 - val_mae: 0.2430\n",
      "Epoch 134/200\n",
      "16/16 [==============================] - 0s 8ms/step - loss: 0.0278 - mae: 0.1087 - val_loss: 0.1169 - val_mae: 0.2583\n",
      "Epoch 135/200\n",
      "16/16 [==============================] - 0s 7ms/step - loss: 0.0210 - mae: 0.1033 - val_loss: 0.1125 - val_mae: 0.2371\n",
      "Epoch 136/200\n",
      "16/16 [==============================] - 0s 7ms/step - loss: 0.0274 - mae: 0.1139 - val_loss: 0.1237 - val_mae: 0.2572\n",
      "Epoch 137/200\n",
      "16/16 [==============================] - 0s 7ms/step - loss: 0.0231 - mae: 0.1095 - val_loss: 0.1182 - val_mae: 0.2577\n",
      "Epoch 138/200\n",
      "16/16 [==============================] - 0s 7ms/step - loss: 0.0249 - mae: 0.1080 - val_loss: 0.1188 - val_mae: 0.2472\n",
      "Epoch 139/200\n",
      "16/16 [==============================] - 0s 7ms/step - loss: 0.0309 - mae: 0.1220 - val_loss: 0.1179 - val_mae: 0.2434\n",
      "Epoch 140/200\n",
      "16/16 [==============================] - 0s 8ms/step - loss: 0.0190 - mae: 0.0952 - val_loss: 0.1614 - val_mae: 0.3066\n",
      "Epoch 141/200\n",
      "16/16 [==============================] - 0s 8ms/step - loss: 0.0284 - mae: 0.1181 - val_loss: 0.1124 - val_mae: 0.2396\n",
      "Epoch 142/200\n",
      "16/16 [==============================] - 0s 8ms/step - loss: 0.0253 - mae: 0.1100 - val_loss: 0.1128 - val_mae: 0.2484\n",
      "Epoch 143/200\n",
      "16/16 [==============================] - 0s 8ms/step - loss: 0.0189 - mae: 0.0971 - val_loss: 0.1377 - val_mae: 0.2633\n",
      "Epoch 144/200\n",
      "16/16 [==============================] - 0s 7ms/step - loss: 0.0380 - mae: 0.1330 - val_loss: 0.1110 - val_mae: 0.2383\n",
      "Epoch 145/200\n",
      "16/16 [==============================] - 0s 7ms/step - loss: 0.0265 - mae: 0.1147 - val_loss: 0.1374 - val_mae: 0.2729\n",
      "Epoch 146/200\n",
      "16/16 [==============================] - 0s 7ms/step - loss: 0.0226 - mae: 0.1010 - val_loss: 0.1362 - val_mae: 0.2787\n",
      "Epoch 147/200\n",
      "16/16 [==============================] - 0s 8ms/step - loss: 0.0236 - mae: 0.1102 - val_loss: 0.1121 - val_mae: 0.2358\n",
      "Epoch 148/200\n",
      "16/16 [==============================] - 0s 7ms/step - loss: 0.0234 - mae: 0.1059 - val_loss: 0.1193 - val_mae: 0.2516\n",
      "Epoch 149/200\n",
      "16/16 [==============================] - 0s 7ms/step - loss: 0.0210 - mae: 0.0982 - val_loss: 0.1197 - val_mae: 0.2492\n",
      "Epoch 150/200\n",
      "16/16 [==============================] - 0s 8ms/step - loss: 0.0241 - mae: 0.1029 - val_loss: 0.1426 - val_mae: 0.2738\n",
      "Epoch 151/200\n",
      "16/16 [==============================] - 0s 7ms/step - loss: 0.0377 - mae: 0.1249 - val_loss: 0.1121 - val_mae: 0.2388\n",
      "Epoch 152/200\n",
      "16/16 [==============================] - 0s 7ms/step - loss: 0.0221 - mae: 0.1053 - val_loss: 0.1226 - val_mae: 0.2539\n",
      "Epoch 153/200\n",
      "16/16 [==============================] - 0s 8ms/step - loss: 0.0197 - mae: 0.1049 - val_loss: 0.1281 - val_mae: 0.2477\n",
      "Epoch 154/200\n",
      "16/16 [==============================] - 0s 8ms/step - loss: 0.0279 - mae: 0.1119 - val_loss: 0.1150 - val_mae: 0.2418\n",
      "Epoch 155/200\n",
      "16/16 [==============================] - 0s 8ms/step - loss: 0.0261 - mae: 0.1120 - val_loss: 0.1165 - val_mae: 0.2478\n",
      "Epoch 156/200\n",
      "16/16 [==============================] - 0s 8ms/step - loss: 0.0188 - mae: 0.0945 - val_loss: 0.1186 - val_mae: 0.2534\n",
      "Epoch 157/200\n",
      "16/16 [==============================] - 0s 8ms/step - loss: 0.0201 - mae: 0.1012 - val_loss: 0.1362 - val_mae: 0.2777\n",
      "Epoch 158/200\n",
      "16/16 [==============================] - 0s 8ms/step - loss: 0.0199 - mae: 0.1064 - val_loss: 0.1200 - val_mae: 0.2505\n",
      "Epoch 159/200\n",
      "16/16 [==============================] - 0s 9ms/step - loss: 0.0300 - mae: 0.1180 - val_loss: 0.1156 - val_mae: 0.2393\n",
      "Epoch 160/200\n",
      "16/16 [==============================] - 0s 9ms/step - loss: 0.0219 - mae: 0.1016 - val_loss: 0.1143 - val_mae: 0.2350\n",
      "Epoch 161/200\n",
      "16/16 [==============================] - 0s 9ms/step - loss: 0.0248 - mae: 0.1081 - val_loss: 0.1265 - val_mae: 0.2608\n",
      "Epoch 162/200\n",
      "16/16 [==============================] - 0s 11ms/step - loss: 0.0200 - mae: 0.0967 - val_loss: 0.1184 - val_mae: 0.2504\n",
      "Epoch 163/200\n",
      "16/16 [==============================] - 0s 9ms/step - loss: 0.0236 - mae: 0.1054 - val_loss: 0.1380 - val_mae: 0.2707\n",
      "Epoch 164/200\n",
      "16/16 [==============================] - 0s 8ms/step - loss: 0.0204 - mae: 0.0974 - val_loss: 0.1160 - val_mae: 0.2497\n",
      "Epoch 165/200\n",
      "16/16 [==============================] - 0s 8ms/step - loss: 0.0246 - mae: 0.1105 - val_loss: 0.1361 - val_mae: 0.2701\n",
      "Epoch 166/200\n",
      "16/16 [==============================] - 0s 8ms/step - loss: 0.0371 - mae: 0.1406 - val_loss: 0.1075 - val_mae: 0.2339\n",
      "Epoch 167/200\n",
      "16/16 [==============================] - 0s 8ms/step - loss: 0.0206 - mae: 0.0931 - val_loss: 0.1230 - val_mae: 0.2533\n",
      "Epoch 168/200\n",
      "16/16 [==============================] - 0s 7ms/step - loss: 0.0191 - mae: 0.0941 - val_loss: 0.1179 - val_mae: 0.2431\n",
      "Epoch 169/200\n",
      "16/16 [==============================] - 0s 7ms/step - loss: 0.0212 - mae: 0.0993 - val_loss: 0.1151 - val_mae: 0.2471\n",
      "Epoch 170/200\n",
      "16/16 [==============================] - 0s 8ms/step - loss: 0.0213 - mae: 0.1034 - val_loss: 0.1097 - val_mae: 0.2310\n",
      "Epoch 171/200\n",
      "16/16 [==============================] - 0s 7ms/step - loss: 0.0244 - mae: 0.1053 - val_loss: 0.1293 - val_mae: 0.2643\n",
      "Epoch 172/200\n",
      "16/16 [==============================] - 0s 7ms/step - loss: 0.0251 - mae: 0.1138 - val_loss: 0.1248 - val_mae: 0.2523\n",
      "Epoch 173/200\n",
      "16/16 [==============================] - 0s 7ms/step - loss: 0.0342 - mae: 0.1198 - val_loss: 0.1134 - val_mae: 0.2375\n",
      "Epoch 174/200\n",
      "16/16 [==============================] - 0s 8ms/step - loss: 0.0227 - mae: 0.1040 - val_loss: 0.1147 - val_mae: 0.2381\n",
      "Epoch 175/200\n",
      "16/16 [==============================] - 0s 8ms/step - loss: 0.0253 - mae: 0.1110 - val_loss: 0.1223 - val_mae: 0.2509\n",
      "Epoch 176/200\n",
      "16/16 [==============================] - 0s 8ms/step - loss: 0.0232 - mae: 0.1034 - val_loss: 0.1119 - val_mae: 0.2403\n",
      "Epoch 177/200\n",
      "16/16 [==============================] - 0s 8ms/step - loss: 0.0152 - mae: 0.0813 - val_loss: 0.1173 - val_mae: 0.2354\n",
      "Epoch 178/200\n",
      "16/16 [==============================] - 0s 7ms/step - loss: 0.0197 - mae: 0.0956 - val_loss: 0.1197 - val_mae: 0.2485\n",
      "Epoch 179/200\n",
      "16/16 [==============================] - 0s 8ms/step - loss: 0.0226 - mae: 0.1103 - val_loss: 0.1173 - val_mae: 0.2450\n",
      "Epoch 180/200\n",
      "16/16 [==============================] - 0s 7ms/step - loss: 0.0192 - mae: 0.0947 - val_loss: 0.1073 - val_mae: 0.2326\n",
      "Epoch 181/200\n",
      "16/16 [==============================] - 0s 8ms/step - loss: 0.0227 - mae: 0.0973 - val_loss: 0.1149 - val_mae: 0.2366\n",
      "Epoch 182/200\n",
      "16/16 [==============================] - 0s 8ms/step - loss: 0.0236 - mae: 0.1024 - val_loss: 0.1229 - val_mae: 0.2522\n",
      "Epoch 183/200\n",
      "16/16 [==============================] - 0s 8ms/step - loss: 0.0208 - mae: 0.1036 - val_loss: 0.1180 - val_mae: 0.2400\n",
      "Epoch 184/200\n",
      "16/16 [==============================] - 0s 8ms/step - loss: 0.0196 - mae: 0.0958 - val_loss: 0.1137 - val_mae: 0.2380\n",
      "Epoch 185/200\n",
      "16/16 [==============================] - 0s 7ms/step - loss: 0.0191 - mae: 0.0913 - val_loss: 0.1314 - val_mae: 0.2624\n",
      "Epoch 186/200\n",
      "16/16 [==============================] - 0s 7ms/step - loss: 0.0351 - mae: 0.1314 - val_loss: 0.1346 - val_mae: 0.2688\n",
      "Epoch 187/200\n",
      "16/16 [==============================] - 0s 7ms/step - loss: 0.0190 - mae: 0.0968 - val_loss: 0.1193 - val_mae: 0.2360\n",
      "Epoch 188/200\n",
      "16/16 [==============================] - 0s 7ms/step - loss: 0.0187 - mae: 0.0900 - val_loss: 0.1232 - val_mae: 0.2491\n",
      "Epoch 189/200\n",
      "16/16 [==============================] - 0s 7ms/step - loss: 0.0203 - mae: 0.1038 - val_loss: 0.1159 - val_mae: 0.2396\n",
      "Epoch 190/200\n",
      "16/16 [==============================] - 0s 8ms/step - loss: 0.0207 - mae: 0.1009 - val_loss: 0.1233 - val_mae: 0.2489\n",
      "Epoch 191/200\n",
      "16/16 [==============================] - 0s 8ms/step - loss: 0.0231 - mae: 0.0999 - val_loss: 0.1139 - val_mae: 0.2431\n",
      "Epoch 192/200\n",
      "16/16 [==============================] - 0s 8ms/step - loss: 0.0174 - mae: 0.0846 - val_loss: 0.1147 - val_mae: 0.2428\n",
      "Epoch 193/200\n",
      "16/16 [==============================] - 0s 8ms/step - loss: 0.0181 - mae: 0.0966 - val_loss: 0.1182 - val_mae: 0.2467\n",
      "Epoch 194/200\n",
      "16/16 [==============================] - 0s 7ms/step - loss: 0.0202 - mae: 0.0975 - val_loss: 0.1068 - val_mae: 0.2336\n",
      "Epoch 195/200\n",
      "16/16 [==============================] - 0s 8ms/step - loss: 0.0183 - mae: 0.0896 - val_loss: 0.1158 - val_mae: 0.2482\n",
      "Epoch 196/200\n",
      "16/16 [==============================] - 0s 8ms/step - loss: 0.0228 - mae: 0.0955 - val_loss: 0.1216 - val_mae: 0.2535\n",
      "Epoch 197/200\n",
      "16/16 [==============================] - 0s 8ms/step - loss: 0.0209 - mae: 0.1013 - val_loss: 0.1217 - val_mae: 0.2468\n",
      "Epoch 198/200\n",
      "16/16 [==============================] - 0s 7ms/step - loss: 0.0220 - mae: 0.1020 - val_loss: 0.1355 - val_mae: 0.2647\n",
      "Epoch 199/200\n",
      "16/16 [==============================] - 0s 7ms/step - loss: 0.0315 - mae: 0.1230 - val_loss: 0.1148 - val_mae: 0.2417\n",
      "Epoch 200/200\n",
      "16/16 [==============================] - 0s 7ms/step - loss: 0.0263 - mae: 0.1076 - val_loss: 0.1184 - val_mae: 0.2442\n"
     ]
    }
   ],
   "source": [
    "history = network.fit(X_train,Y_train,epochs=200,validation_split=0.3)"
   ]
  },
  {
   "cell_type": "code",
   "execution_count": 345,
   "metadata": {},
   "outputs": [
    {
     "data": {
      "text/plain": [
       "dict_keys(['loss', 'mae', 'val_loss', 'val_mae'])"
      ]
     },
     "execution_count": 345,
     "metadata": {},
     "output_type": "execute_result"
    }
   ],
   "source": [
    "history.history.keys()"
   ]
  },
  {
   "cell_type": "code",
   "execution_count": 346,
   "metadata": {
    "colab": {
     "base_uri": "https://localhost:8080/"
    },
    "id": "Dke-NeOQtJ7Z",
    "outputId": "c747742c-a35c-489d-910c-49aec973df25"
   },
   "outputs": [
    {
     "name": "stdout",
     "output_type": "stream",
     "text": [
      "10/10 [==============================] - 0s 2ms/step - loss: 0.1231 - mae: 0.2291\n"
     ]
    }
   ],
   "source": [
    "loss,mae=network.evaluate(X_test,Y_test)"
   ]
  },
  {
   "cell_type": "code",
   "execution_count": 347,
   "metadata": {
    "colab": {
     "base_uri": "https://localhost:8080/"
    },
    "id": "CtycpTWetRiZ",
    "outputId": "c3c53923-6128-448f-a0ac-68b30a6eabaa"
   },
   "outputs": [],
   "source": [
    "val_mae = history.history['val_mae']\n",
    "val_loss = history.history['val_loss']"
   ]
  },
  {
   "cell_type": "code",
   "execution_count": 348,
   "metadata": {},
   "outputs": [
    {
     "data": {
      "image/png": "[encoded data removed]",
      "text/plain": [
       "<Figure size 432x288 with 1 Axes>"
      ]
     },
     "metadata": {
      "needs_background": "light"
     },
     "output_type": "display_data"
    }
   ],
   "source": [
    "import matplotlib.pyplot as plt \n",
    "history_dict = history.history\n",
    "loss_values = history_dict['loss']\n",
    "val_loss_values = history_dict['val_loss']\n",
    "epochs = range(200)\n",
    "plt.plot(epochs, loss_values, 'bo', label='Training loss')\n",
    "plt.plot(epochs, val_loss_values, 'b', label='Validation loss')\n",
    "plt.title('Training and validation loss')\n",
    "plt.xlabel('Epochs')\n",
    "plt.ylabel('Loss')\n",
    "plt.legend()\n",
    "plt.show()"
   ]
  },
  {
   "cell_type": "code",
   "execution_count": 349,
   "metadata": {},
   "outputs": [
    {
     "data": {
      "image/png": "[encoded data removed]",
      "text/plain": [
       "<Figure size 432x288 with 1 Axes>"
      ]
     },
     "metadata": {
      "needs_background": "light"
     },
     "output_type": "display_data"
    }
   ],
   "source": [
    "import matplotlib.pyplot as plt \n",
    "acc_values = history_dict['mae']\n",
    "val_acc_values = history_dict['val_mae']\n",
    "plt.plot(epochs, acc_values, 'bo', label='Training mae')\n",
    "plt.plot(epochs, val_acc_values, 'b', label='Validation mae')\n",
    "plt.title('Training and validation accuracy')\n",
    "plt.xlabel('Epochs')\n",
    "plt.ylabel('mae')\n",
    "plt.legend()\n",
    "plt.show()"
   ]
  },
  {
   "cell_type": "code",
   "execution_count": 350,
   "metadata": {
    "id": "AiZJuEX1tXIa"
   },
   "outputs": [],
   "source": [
    "y_pred = network.predict(X_test)"
   ]
  },
  {
   "cell_type": "code",
   "execution_count": null,
   "metadata": {},
   "outputs": [],
   "source": []
  },
  {
   "cell_type": "code",
   "execution_count": 351,
   "metadata": {},
   "outputs": [],
   "source": [
    "def denorm(x):\n",
    "    return (x * Y_std) + Y_mean\n",
    "    "
   ]
  },
  {
   "cell_type": "code",
   "execution_count": 352,
   "metadata": {},
   "outputs": [],
   "source": [
    "y_pred = denorm(y_pred)"
   ]
  },
  {
   "cell_type": "code",
   "execution_count": 353,
   "metadata": {},
   "outputs": [],
   "source": [
    "y_true = denorm(Y_test)"
   ]
  },
  {
   "cell_type": "code",
   "execution_count": 357,
   "metadata": {},
   "outputs": [],
   "source": [
    "y_pred = y_pred.flatten()"
   ]
  },
  {
   "cell_type": "code",
   "execution_count": 358,
   "metadata": {},
   "outputs": [
    {
     "data": {
      "text/plain": [
       "(309,)"
      ]
     },
     "execution_count": 358,
     "metadata": {},
     "output_type": "execute_result"
    }
   ],
   "source": [
    "y_pred.shape"
   ]
  },
  {
   "cell_type": "code",
   "execution_count": 359,
   "metadata": {},
   "outputs": [
    {
     "data": {
      "text/plain": [
       "(309,)"
      ]
     },
     "execution_count": 359,
     "metadata": {},
     "output_type": "execute_result"
    }
   ],
   "source": [
    "y_true.shape"
   ]
  },
  {
   "cell_type": "code",
   "execution_count": 360,
   "metadata": {},
   "outputs": [
    {
     "data": {
      "text/plain": [
       "(0.0, 100.0)"
      ]
     },
     "execution_count": 360,
     "metadata": {},
     "output_type": "execute_result"
    },
    {
     "data": {
      "image/png": "[encoded data removed]",
      "text/plain": [
       "<Figure size 432x288 with 1 Axes>"
      ]
     },
     "metadata": {
      "needs_background": "light"
     },
     "output_type": "display_data"
    }
   ],
   "source": [
    "import numpy as np\n",
    "import matplotlib.pyplot as plt\n",
    "coef = np.polyfit(y_true,y_pred,1)\n",
    "poly1d_fn = np.poly1d(coef) \n",
    "# poly1d_fn is now a function which takes in x and returns an estimate for y\n",
    "\n",
    "plt.plot(y_true,y_pred, 'yo', y_true, poly1d_fn(y_true), '--k')\n",
    "plt.xlim(0, 100)\n",
    "plt.ylim(0, 100)"
   ]
  }
 ],
 "metadata": {
  "accelerator": "TPU",
  "colab": {
   "collapsed_sections": [],
   "name": "Concrete.ipynb",
   "provenance": [],
   "toc_visible": true
  },
  "kernelspec": {
   "display_name": "Python 3",
   "language": "python",
   "name": "python3"
  },
  "language_info": {
   "codemirror_mode": {
    "name": "ipython",
    "version": 3
   },
   "file_extension": ".py",
   "mimetype": "text/x-python",
   "name": "python",
   "nbconvert_exporter": "python",
   "pygments_lexer": "ipython3",
   "version": "3.9.2"
  }
 },
 "nbformat": 4,
 "nbformat_minor": 1
}
