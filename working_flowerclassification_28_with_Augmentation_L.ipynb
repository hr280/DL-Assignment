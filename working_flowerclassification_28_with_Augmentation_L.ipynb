{
  "nbformat": 4,
  "nbformat_minor": 0,
  "metadata": {
    "colab": {
      "name": "working_flowerclassification_28_with_Augmentation_L.ipynb",
      "provenance": [],
      "collapsed_sections": []
    },
    "kernelspec": {
      "name": "python3",
      "display_name": "Python 3"
    },
    "language_info": {
      "name": "python"
    },
    "accelerator": "GPU"
  },
  "cells": [
    {
      "cell_type": "code",
      "metadata": {
        "colab": {
          "base_uri": "https://localhost:8080/"
        },
        "id": "ZOma4jpKeYm6",
        "outputId": "80d419d6-26eb-4b8c-fe84-993187bd2152"
      },
      "source": [
        "from google.colab import drive\n",
        "drive.mount('/content/drive')"
      ],
      "execution_count": null,
      "outputs": [
        {
          "output_type": "stream",
          "text": [
            "Drive already mounted at /content/drive; to attempt to forcibly remount, call drive.mount(\"/content/drive\", force_remount=True).\n"
          ],
          "name": "stdout"
        }
      ]
    },
    {
      "cell_type": "code",
      "metadata": {
        "id": "MHeMvFpkR-Oe"
      },
      "source": [
        "import numpy as np\n",
        "import pandas as pd\n",
        "import tensorflow as tf\n",
        "from tensorflow.keras import models\n",
        "from tensorflow.keras import layers\n",
        "from tensorflow.keras.preprocessing.image import ImageDataGenerator\n",
        "from tensorflow.keras.models import Sequential\n",
        "from tensorflow.keras.layers import Dense, Flatten\n",
        "from tensorflow.keras.optimizers import RMSprop\n"
      ],
      "execution_count": null,
      "outputs": []
    },
    {
      "cell_type": "code",
      "metadata": {
        "id": "egZwLd-iJDED"
      },
      "source": [
        "import glob\n",
        "import cv2\n",
        "import numpy as np\n",
        "\n",
        "with tf.device('/device:GPU:0'):\n",
        "\n",
        "  IMG_DIR='/content/drive/MyDrive/PIAIC/flower-recognition/daisy'\n",
        "  IMG_DIR1='/content/drive/MyDrive/PIAIC/flower-recognition/dandelion'\n",
        "  IMG_DIR2='/content/drive/MyDrive/PIAIC/flower-recognition/rose'\n",
        "  IMG_DIR3='/content/drive/MyDrive/PIAIC/flower-recognition/sunflower'\n",
        "  IMG_DIR4='/content/drive/MyDrive/PIAIC/flower-recognition/tulip'\n",
        "\n",
        "  def read_images(directory):\n",
        "      for img in glob.glob(directory+\"/*.jpg\"):\n",
        "          image = cv2.imread(img)\n",
        "          resized_img = cv2.resize(image/255.0  , (150 , 150))\n",
        "\n",
        "          yield resized_img\n",
        "\n",
        "  resized_imgs0 =  np.array(list(read_images(IMG_DIR)))\n",
        "  resized_imgs1 =  np.array(list(read_images(IMG_DIR1)))\n",
        "  resized_imgs2 =  np.array(list(read_images(IMG_DIR2)))\n",
        "  resized_imgs3 =  np.array(list(read_images(IMG_DIR3)))\n",
        "  resized_imgs4 =  np.array(list(read_images(IMG_DIR4)))"
      ],
      "execution_count": null,
      "outputs": []
    },
    {
      "cell_type": "code",
      "metadata": {
        "id": "coTWYSuim7aH"
      },
      "source": [
        "label0 = np.zeros((resized_imgs0.shape[0],1))   #0\n",
        "label1 = np.ones((resized_imgs1.shape[0],1))  #1\n",
        "label2 = np.ones((resized_imgs2.shape[0],1))*2 #2\n",
        "label3 = np.ones((resized_imgs3.shape[0],1))*3 #3\n",
        "label4 = np.ones((resized_imgs4.shape[0],1))*4  #4"
      ],
      "execution_count": null,
      "outputs": []
    },
    {
      "cell_type": "code",
      "metadata": {
        "id": "kfxqQEKJm7ho"
      },
      "source": [
        "data = np.concatenate((resized_imgs0,resized_imgs1,resized_imgs2,resized_imgs3,resized_imgs4))"
      ],
      "execution_count": null,
      "outputs": []
    },
    {
      "cell_type": "code",
      "metadata": {
        "id": "v1rIpkgunCsg"
      },
      "source": [
        "data= data.reshape(data.shape[0], data.shape[1]*data.shape[2]*data.shape[3])"
      ],
      "execution_count": null,
      "outputs": []
    },
    {
      "cell_type": "code",
      "metadata": {
        "id": "v46rF7dJm7l0"
      },
      "source": [
        "labels = np.concatenate((label0,label1,label2,label3,label4))"
      ],
      "execution_count": null,
      "outputs": []
    },
    {
      "cell_type": "code",
      "metadata": {
        "id": "SBw851DUqx1d"
      },
      "source": [
        "del resized_imgs0\n",
        "del resized_imgs1\n",
        "del resized_imgs2\n",
        "del resized_imgs3\n",
        "del resized_imgs4\n",
        "del label0\n",
        "del label1\n",
        "del label2\n",
        "del label3\n",
        "del label4"
      ],
      "execution_count": null,
      "outputs": []
    },
    {
      "cell_type": "code",
      "metadata": {
        "id": "GdRMJtr-m7ob"
      },
      "source": [
        "import pandas as pd\n",
        "data = pd.DataFrame(data)\n",
        "data['labels'] = labels.astype('float32')"
      ],
      "execution_count": null,
      "outputs": []
    },
    {
      "cell_type": "code",
      "metadata": {
        "id": "YIxDtQiWnVLg"
      },
      "source": [
        "from sklearn.model_selection import train_test_split\n",
        "train_data, test_data, train_labels, test_labels=train_test_split(data.iloc[0:,:-1], data['labels'], test_size=0.3, random_state=42, stratify = labels)"
      ],
      "execution_count": null,
      "outputs": []
    },
    {
      "cell_type": "code",
      "metadata": {
        "id": "ySi80YLhm7rY"
      },
      "source": [
        "train_data = np.array(train_data).reshape(len(train_data),150,150,3)\n",
        "# test_data.reshape(150,150,3)"
      ],
      "execution_count": null,
      "outputs": []
    },
    {
      "cell_type": "code",
      "metadata": {
        "id": "u2Q2bSk0i8SS"
      },
      "source": [
        "test_data = np.array(test_data).reshape(len(test_data),150,150,3)"
      ],
      "execution_count": null,
      "outputs": []
    },
    {
      "cell_type": "code",
      "metadata": {
        "id": "RVYQi0yowy5d"
      },
      "source": [
        "train_labels = np.array(train_labels).astype('float32')\n",
        "test_labels = np.array(test_labels).astype('float32')"
      ],
      "execution_count": null,
      "outputs": []
    },
    {
      "cell_type": "code",
      "metadata": {
        "id": "xwFlpTZXm7tw"
      },
      "source": [
        "# from keras.utils import to_categorical\n",
        "# train_labels = to_categorical(train_labels)\n",
        "# test_labels = to_categorical(test_labels)"
      ],
      "execution_count": null,
      "outputs": []
    },
    {
      "cell_type": "code",
      "metadata": {
        "id": "mMFN2MN4nKEI"
      },
      "source": [
        "data_gen = tf.keras.preprocessing.image.ImageDataGenerator(\n",
        "    # featurewise_center=True,\n",
        "    # samplewise_center=True,\n",
        "    # featurewise_std_normalization=True,\n",
        "    # samplewise_std_normalization=True,\n",
        "    # zca_whitening=False,\n",
        "    zca_epsilon=1e-06,\n",
        "    rotation_range=0,\n",
        "    width_shift_range=0.0,\n",
        "    height_shift_range=0.0,\n",
        "    brightness_range=None,\n",
        "    shear_range=0.3,\n",
        "    zoom_range=0.2,\n",
        "    channel_shift_range=0.3,\n",
        "    fill_mode=\"nearest\",\n",
        "    cval=0.0,\n",
        "    horizontal_flip=True,\n",
        "    vertical_flip=False,\n",
        "    rescale=None,\n",
        "    preprocessing_function=None,\n",
        "    data_format=None,\n",
        "    validation_split=0.0,\n",
        "    dtype=None,\n",
        ")"
      ],
      "execution_count": null,
      "outputs": []
    },
    {
      "cell_type": "code",
      "metadata": {
        "id": "IJxEir7CoyCj"
      },
      "source": [
        "data_gen.fit(train_data)"
      ],
      "execution_count": null,
      "outputs": []
    },
    {
      "cell_type": "code",
      "metadata": {
        "id": "ZIn7Xpbat0aV"
      },
      "source": [
        "data_gen.fit(test_data)"
      ],
      "execution_count": null,
      "outputs": []
    },
    {
      "cell_type": "code",
      "metadata": {
        "id": "n0kNKV8DatIC"
      },
      "source": [
        "#MOdels with COnv2D and Maxpooling\n",
        "model = tf.keras.models.Sequential([\n",
        "    # Note the input shape is the desired size of the image 150x150 with 3 bytes color\n",
        "    # This is the first convolution\n",
        "    tf.keras.layers.Conv2D(64, (3,3), activation='relu', input_shape=(150, 150, 3,)),\n",
        "    tf.keras.layers.MaxPooling2D(2, 2),\n",
        "    # The second convolution\n",
        "    tf.keras.layers.Conv2D(64, (3,3), activation='relu'),\n",
        "    tf.keras.layers.MaxPooling2D(2,2),\n",
        "    # The third convolution\n",
        "    tf.keras.layers.Conv2D(32, (3,3), activation='relu'),\n",
        "    tf.keras.layers.MaxPooling2D(2,2),\n",
        "    # The fourth convolution\n",
        "    tf.keras.layers.Conv2D(16, (3,3), activation='relu'),\n",
        "    tf.keras.layers.MaxPooling2D(2,2),\n",
        "    # Flatten the results to feed into a DNN\n",
        "    tf.keras.layers.Flatten(),\n",
        "    tf.keras.layers.Dropout(0.5),\n",
        "    # 512 neuron hidden layer\n",
        "    tf.keras.layers.Dense(512, activation='relu'),\n",
        "    tf.keras.layers.Dense(5, activation='softmax')\n",
        "])"
      ],
      "execution_count": null,
      "outputs": []
    },
    {
      "cell_type": "code",
      "metadata": {
        "id": "2QFL7tA4D0Sa"
      },
      "source": [
        "model.compile(optimizer=RMSprop(learning_rate= 0.0001),\n",
        "loss='sparse_categorical_crossentropy',\n",
        "metrics=['accuracy'])"
      ],
      "execution_count": null,
      "outputs": []
    },
    {
      "cell_type": "code",
      "metadata": {
        "id": "kBJbtQp1fhfx"
      },
      "source": [
        "%tensorflow_version 2.x\n",
        "import tensorflow as tf"
      ],
      "execution_count": null,
      "outputs": []
    },
    {
      "cell_type": "code",
      "metadata": {
        "id": "mwG7_qctxUBl",
        "colab": {
          "base_uri": "https://localhost:8080/"
        },
        "outputId": "392b159b-f788-4de0-8b3d-fd078d00f9b9"
      },
      "source": [
        "with tf.device('/device:GPU:0'):\n",
        "  result = model.fit(\n",
        "          x= train_data,\n",
        "          y= train_labels,\n",
        "          batch_size = 30,\n",
        "          steps_per_epoch=30,\n",
        "          epochs=100,\n",
        "          validation_split=0.3,\n",
        "          validation_steps=10,\n",
        "          validation_batch_size=10)"
      ],
      "execution_count": null,
      "outputs": [
        {
          "output_type": "stream",
          "text": [
            "Epoch 1/100\n",
            "30/30 [==============================] - 2s 46ms/step - loss: 1.6029 - accuracy: 0.2591 - val_loss: 1.5738 - val_accuracy: 0.3400\n",
            "Epoch 2/100\n",
            "30/30 [==============================] - 1s 29ms/step - loss: 1.5702 - accuracy: 0.2780 - val_loss: 1.4705 - val_accuracy: 0.4000\n",
            "Epoch 3/100\n",
            "30/30 [==============================] - 1s 43ms/step - loss: 1.4943 - accuracy: 0.3325 - val_loss: 1.3684 - val_accuracy: 0.4100\n",
            "Epoch 4/100\n",
            "30/30 [==============================] - 1s 28ms/step - loss: 1.4167 - accuracy: 0.3621 - val_loss: 1.2939 - val_accuracy: 0.4000\n",
            "Epoch 5/100\n",
            "30/30 [==============================] - 1s 29ms/step - loss: 1.3566 - accuracy: 0.4080 - val_loss: 1.2469 - val_accuracy: 0.5000\n",
            "Epoch 6/100\n",
            "30/30 [==============================] - 1s 29ms/step - loss: 1.2729 - accuracy: 0.4682 - val_loss: 1.1694 - val_accuracy: 0.5200\n",
            "Epoch 7/100\n",
            "30/30 [==============================] - 1s 28ms/step - loss: 1.2469 - accuracy: 0.4753 - val_loss: 1.1413 - val_accuracy: 0.5200\n",
            "Epoch 8/100\n",
            "30/30 [==============================] - 1s 28ms/step - loss: 1.2589 - accuracy: 0.4952 - val_loss: 1.1528 - val_accuracy: 0.4500\n",
            "Epoch 9/100\n",
            "30/30 [==============================] - 1s 29ms/step - loss: 1.1977 - accuracy: 0.4744 - val_loss: 1.1062 - val_accuracy: 0.5500\n",
            "Epoch 10/100\n",
            "30/30 [==============================] - 1s 29ms/step - loss: 1.2010 - accuracy: 0.4899 - val_loss: 1.1355 - val_accuracy: 0.5000\n",
            "Epoch 11/100\n",
            "30/30 [==============================] - 1s 28ms/step - loss: 1.2271 - accuracy: 0.4635 - val_loss: 1.0959 - val_accuracy: 0.5000\n",
            "Epoch 12/100\n",
            "30/30 [==============================] - 1s 28ms/step - loss: 1.1459 - accuracy: 0.5131 - val_loss: 1.1084 - val_accuracy: 0.5200\n",
            "Epoch 13/100\n",
            "30/30 [==============================] - 1s 29ms/step - loss: 1.1550 - accuracy: 0.5303 - val_loss: 1.0702 - val_accuracy: 0.6000\n",
            "Epoch 14/100\n",
            "30/30 [==============================] - 1s 29ms/step - loss: 1.0999 - accuracy: 0.5547 - val_loss: 1.0763 - val_accuracy: 0.5600\n",
            "Epoch 15/100\n",
            "30/30 [==============================] - 1s 29ms/step - loss: 1.1220 - accuracy: 0.5255 - val_loss: 1.0536 - val_accuracy: 0.5700\n",
            "Epoch 16/100\n",
            "30/30 [==============================] - 1s 29ms/step - loss: 1.2010 - accuracy: 0.5126 - val_loss: 1.0699 - val_accuracy: 0.5800\n",
            "Epoch 17/100\n",
            "30/30 [==============================] - 1s 29ms/step - loss: 1.0873 - accuracy: 0.5436 - val_loss: 1.0308 - val_accuracy: 0.5700\n",
            "Epoch 18/100\n",
            "30/30 [==============================] - 1s 29ms/step - loss: 1.1157 - accuracy: 0.5537 - val_loss: 1.0390 - val_accuracy: 0.5900\n",
            "Epoch 19/100\n",
            "30/30 [==============================] - 1s 28ms/step - loss: 1.0604 - accuracy: 0.5680 - val_loss: 1.1044 - val_accuracy: 0.5100\n",
            "Epoch 20/100\n",
            "30/30 [==============================] - 1s 29ms/step - loss: 1.1125 - accuracy: 0.5377 - val_loss: 1.0645 - val_accuracy: 0.5400\n",
            "Epoch 21/100\n",
            "30/30 [==============================] - 1s 29ms/step - loss: 1.0725 - accuracy: 0.5627 - val_loss: 1.0285 - val_accuracy: 0.6000\n",
            "Epoch 22/100\n",
            "30/30 [==============================] - 1s 29ms/step - loss: 1.0622 - accuracy: 0.5779 - val_loss: 1.0210 - val_accuracy: 0.5900\n",
            "Epoch 23/100\n",
            "30/30 [==============================] - 1s 29ms/step - loss: 1.0327 - accuracy: 0.6035 - val_loss: 1.0038 - val_accuracy: 0.5900\n",
            "Epoch 24/100\n",
            "30/30 [==============================] - 1s 28ms/step - loss: 1.0267 - accuracy: 0.6151 - val_loss: 0.9961 - val_accuracy: 0.6000\n",
            "Epoch 25/100\n",
            "30/30 [==============================] - 1s 29ms/step - loss: 1.0423 - accuracy: 0.5954 - val_loss: 1.1843 - val_accuracy: 0.4900\n",
            "Epoch 26/100\n",
            "30/30 [==============================] - 1s 29ms/step - loss: 1.0728 - accuracy: 0.5420 - val_loss: 0.9732 - val_accuracy: 0.6500\n",
            "Epoch 27/100\n",
            "30/30 [==============================] - 1s 29ms/step - loss: 0.9908 - accuracy: 0.6172 - val_loss: 1.0713 - val_accuracy: 0.5600\n",
            "Epoch 28/100\n",
            "30/30 [==============================] - 1s 30ms/step - loss: 0.9710 - accuracy: 0.6240 - val_loss: 0.9792 - val_accuracy: 0.6000\n",
            "Epoch 29/100\n",
            "30/30 [==============================] - 1s 29ms/step - loss: 0.9838 - accuracy: 0.6006 - val_loss: 1.0665 - val_accuracy: 0.5400\n",
            "Epoch 30/100\n",
            "30/30 [==============================] - 1s 29ms/step - loss: 0.9778 - accuracy: 0.6025 - val_loss: 0.9928 - val_accuracy: 0.6300\n",
            "Epoch 31/100\n",
            "30/30 [==============================] - 1s 29ms/step - loss: 1.0160 - accuracy: 0.6307 - val_loss: 1.0241 - val_accuracy: 0.6000\n",
            "Epoch 32/100\n",
            "30/30 [==============================] - 1s 29ms/step - loss: 0.9516 - accuracy: 0.6343 - val_loss: 0.9625 - val_accuracy: 0.6600\n",
            "Epoch 33/100\n",
            "30/30 [==============================] - 1s 29ms/step - loss: 0.9605 - accuracy: 0.6383 - val_loss: 1.1013 - val_accuracy: 0.5700\n",
            "Epoch 34/100\n",
            "30/30 [==============================] - 1s 28ms/step - loss: 1.0297 - accuracy: 0.5802 - val_loss: 0.9903 - val_accuracy: 0.6100\n",
            "Epoch 35/100\n",
            "30/30 [==============================] - 1s 29ms/step - loss: 0.9980 - accuracy: 0.6227 - val_loss: 0.9587 - val_accuracy: 0.6200\n",
            "Epoch 36/100\n",
            "30/30 [==============================] - 1s 29ms/step - loss: 0.9415 - accuracy: 0.6348 - val_loss: 0.9707 - val_accuracy: 0.6200\n",
            "Epoch 37/100\n",
            "30/30 [==============================] - 1s 29ms/step - loss: 0.9681 - accuracy: 0.6325 - val_loss: 1.0003 - val_accuracy: 0.5900\n",
            "Epoch 38/100\n",
            "30/30 [==============================] - 1s 29ms/step - loss: 0.9296 - accuracy: 0.6451 - val_loss: 0.9336 - val_accuracy: 0.6800\n",
            "Epoch 39/100\n",
            "30/30 [==============================] - 1s 29ms/step - loss: 0.9656 - accuracy: 0.6475 - val_loss: 0.9770 - val_accuracy: 0.6200\n",
            "Epoch 40/100\n",
            "30/30 [==============================] - 1s 29ms/step - loss: 0.9302 - accuracy: 0.6410 - val_loss: 0.9514 - val_accuracy: 0.6300\n",
            "Epoch 41/100\n",
            "30/30 [==============================] - 1s 28ms/step - loss: 0.9140 - accuracy: 0.6674 - val_loss: 1.2180 - val_accuracy: 0.5000\n",
            "Epoch 42/100\n",
            "30/30 [==============================] - 1s 30ms/step - loss: 0.9790 - accuracy: 0.6379 - val_loss: 1.0213 - val_accuracy: 0.6300\n",
            "Epoch 43/100\n",
            "30/30 [==============================] - 1s 29ms/step - loss: 0.8541 - accuracy: 0.6701 - val_loss: 0.9114 - val_accuracy: 0.6800\n",
            "Epoch 44/100\n",
            "30/30 [==============================] - 1s 29ms/step - loss: 0.9221 - accuracy: 0.6529 - val_loss: 0.9959 - val_accuracy: 0.6300\n",
            "Epoch 45/100\n",
            "30/30 [==============================] - 1s 29ms/step - loss: 0.9179 - accuracy: 0.6509 - val_loss: 0.9426 - val_accuracy: 0.6500\n",
            "Epoch 46/100\n",
            "30/30 [==============================] - 1s 30ms/step - loss: 0.9237 - accuracy: 0.6450 - val_loss: 0.9706 - val_accuracy: 0.6300\n",
            "Epoch 47/100\n",
            "30/30 [==============================] - 1s 30ms/step - loss: 0.8294 - accuracy: 0.6709 - val_loss: 0.8979 - val_accuracy: 0.7000\n",
            "Epoch 48/100\n",
            "30/30 [==============================] - 1s 29ms/step - loss: 0.9618 - accuracy: 0.6418 - val_loss: 0.8928 - val_accuracy: 0.7100\n",
            "Epoch 49/100\n",
            "30/30 [==============================] - 1s 29ms/step - loss: 0.9260 - accuracy: 0.6540 - val_loss: 0.9627 - val_accuracy: 0.6300\n",
            "Epoch 50/100\n",
            "30/30 [==============================] - 1s 29ms/step - loss: 0.8130 - accuracy: 0.7055 - val_loss: 1.0182 - val_accuracy: 0.6500\n",
            "Epoch 51/100\n",
            "30/30 [==============================] - 1s 29ms/step - loss: 0.9228 - accuracy: 0.6699 - val_loss: 0.8872 - val_accuracy: 0.7000\n",
            "Epoch 52/100\n",
            "30/30 [==============================] - 1s 30ms/step - loss: 0.8894 - accuracy: 0.6623 - val_loss: 0.9057 - val_accuracy: 0.6800\n",
            "Epoch 53/100\n",
            "30/30 [==============================] - 1s 29ms/step - loss: 0.8831 - accuracy: 0.6433 - val_loss: 0.8927 - val_accuracy: 0.6400\n",
            "Epoch 54/100\n",
            "30/30 [==============================] - 1s 30ms/step - loss: 0.8166 - accuracy: 0.7000 - val_loss: 0.9277 - val_accuracy: 0.6700\n",
            "Epoch 55/100\n",
            "30/30 [==============================] - 1s 29ms/step - loss: 0.9080 - accuracy: 0.6532 - val_loss: 1.0024 - val_accuracy: 0.6100\n",
            "Epoch 56/100\n",
            "30/30 [==============================] - 1s 29ms/step - loss: 0.8679 - accuracy: 0.6725 - val_loss: 0.9617 - val_accuracy: 0.6900\n",
            "Epoch 57/100\n",
            "30/30 [==============================] - 1s 29ms/step - loss: 0.8571 - accuracy: 0.6783 - val_loss: 0.9252 - val_accuracy: 0.7000\n",
            "Epoch 58/100\n",
            "30/30 [==============================] - 1s 30ms/step - loss: 0.8376 - accuracy: 0.6934 - val_loss: 0.9018 - val_accuracy: 0.6900\n",
            "Epoch 59/100\n",
            "30/30 [==============================] - 1s 30ms/step - loss: 0.8594 - accuracy: 0.6624 - val_loss: 0.9142 - val_accuracy: 0.6700\n",
            "Epoch 60/100\n",
            "30/30 [==============================] - 1s 29ms/step - loss: 0.8548 - accuracy: 0.6773 - val_loss: 0.8999 - val_accuracy: 0.6900\n",
            "Epoch 61/100\n",
            "30/30 [==============================] - 1s 30ms/step - loss: 0.8809 - accuracy: 0.6605 - val_loss: 0.9866 - val_accuracy: 0.6700\n",
            "Epoch 62/100\n",
            "30/30 [==============================] - 1s 29ms/step - loss: 0.8253 - accuracy: 0.6772 - val_loss: 0.9691 - val_accuracy: 0.6700\n",
            "Epoch 63/100\n",
            "30/30 [==============================] - 1s 30ms/step - loss: 0.8189 - accuracy: 0.6747 - val_loss: 0.8562 - val_accuracy: 0.7300\n",
            "Epoch 64/100\n",
            "30/30 [==============================] - 1s 29ms/step - loss: 0.8088 - accuracy: 0.6850 - val_loss: 0.8991 - val_accuracy: 0.7200\n",
            "Epoch 65/100\n",
            "30/30 [==============================] - 1s 30ms/step - loss: 0.7869 - accuracy: 0.7189 - val_loss: 0.9585 - val_accuracy: 0.6600\n",
            "Epoch 66/100\n",
            "30/30 [==============================] - 1s 29ms/step - loss: 0.8753 - accuracy: 0.6756 - val_loss: 0.8825 - val_accuracy: 0.7300\n",
            "Epoch 67/100\n",
            "30/30 [==============================] - 1s 29ms/step - loss: 0.7639 - accuracy: 0.7086 - val_loss: 0.8761 - val_accuracy: 0.7200\n",
            "Epoch 68/100\n",
            "30/30 [==============================] - 1s 30ms/step - loss: 0.8088 - accuracy: 0.7029 - val_loss: 0.9020 - val_accuracy: 0.6900\n",
            "Epoch 69/100\n",
            "30/30 [==============================] - 1s 30ms/step - loss: 0.8266 - accuracy: 0.6741 - val_loss: 0.8722 - val_accuracy: 0.7500\n",
            "Epoch 70/100\n",
            "30/30 [==============================] - 1s 29ms/step - loss: 0.7878 - accuracy: 0.7145 - val_loss: 0.9214 - val_accuracy: 0.6900\n",
            "Epoch 71/100\n",
            "30/30 [==============================] - 1s 29ms/step - loss: 0.8340 - accuracy: 0.6987 - val_loss: 0.8583 - val_accuracy: 0.7500\n",
            "Epoch 72/100\n",
            "30/30 [==============================] - 1s 30ms/step - loss: 0.8385 - accuracy: 0.6592 - val_loss: 0.8712 - val_accuracy: 0.7200\n",
            "Epoch 73/100\n",
            "30/30 [==============================] - 1s 29ms/step - loss: 0.8194 - accuracy: 0.6907 - val_loss: 0.8455 - val_accuracy: 0.7200\n",
            "Epoch 74/100\n",
            "30/30 [==============================] - 1s 29ms/step - loss: 0.7614 - accuracy: 0.7151 - val_loss: 0.9097 - val_accuracy: 0.7000\n",
            "Epoch 75/100\n",
            "30/30 [==============================] - 1s 30ms/step - loss: 0.8055 - accuracy: 0.7070 - val_loss: 0.9009 - val_accuracy: 0.7100\n",
            "Epoch 76/100\n",
            "30/30 [==============================] - 1s 29ms/step - loss: 0.7410 - accuracy: 0.7219 - val_loss: 0.9035 - val_accuracy: 0.6800\n",
            "Epoch 77/100\n",
            "30/30 [==============================] - 1s 29ms/step - loss: 0.8504 - accuracy: 0.6666 - val_loss: 0.8614 - val_accuracy: 0.7400\n",
            "Epoch 78/100\n",
            "30/30 [==============================] - 1s 29ms/step - loss: 0.7257 - accuracy: 0.7324 - val_loss: 0.8340 - val_accuracy: 0.7300\n",
            "Epoch 79/100\n",
            "30/30 [==============================] - 1s 29ms/step - loss: 0.7298 - accuracy: 0.7199 - val_loss: 0.8277 - val_accuracy: 0.7400\n",
            "Epoch 80/100\n",
            "30/30 [==============================] - 1s 30ms/step - loss: 0.7667 - accuracy: 0.6988 - val_loss: 0.9416 - val_accuracy: 0.6700\n",
            "Epoch 81/100\n",
            "30/30 [==============================] - 1s 29ms/step - loss: 0.8125 - accuracy: 0.6823 - val_loss: 0.8413 - val_accuracy: 0.7600\n",
            "Epoch 82/100\n",
            "30/30 [==============================] - 1s 29ms/step - loss: 0.7356 - accuracy: 0.7206 - val_loss: 0.8346 - val_accuracy: 0.7600\n",
            "Epoch 83/100\n",
            "30/30 [==============================] - 1s 29ms/step - loss: 0.7374 - accuracy: 0.7364 - val_loss: 0.8549 - val_accuracy: 0.7300\n",
            "Epoch 84/100\n",
            "30/30 [==============================] - 1s 30ms/step - loss: 0.7476 - accuracy: 0.7209 - val_loss: 0.8272 - val_accuracy: 0.7600\n",
            "Epoch 85/100\n",
            "30/30 [==============================] - 1s 29ms/step - loss: 0.7143 - accuracy: 0.7345 - val_loss: 0.8624 - val_accuracy: 0.7200\n",
            "Epoch 86/100\n",
            "30/30 [==============================] - 1s 29ms/step - loss: 0.7583 - accuracy: 0.6943 - val_loss: 0.8566 - val_accuracy: 0.7400\n",
            "Epoch 87/100\n",
            "30/30 [==============================] - 1s 29ms/step - loss: 0.7236 - accuracy: 0.7419 - val_loss: 0.8035 - val_accuracy: 0.7500\n",
            "Epoch 88/100\n",
            "30/30 [==============================] - 1s 29ms/step - loss: 0.7579 - accuracy: 0.7132 - val_loss: 0.8370 - val_accuracy: 0.7500\n",
            "Epoch 89/100\n",
            "30/30 [==============================] - 1s 29ms/step - loss: 0.7472 - accuracy: 0.6938 - val_loss: 0.8829 - val_accuracy: 0.7600\n",
            "Epoch 90/100\n",
            "30/30 [==============================] - 1s 29ms/step - loss: 0.7539 - accuracy: 0.7250 - val_loss: 0.8587 - val_accuracy: 0.7300\n",
            "Epoch 91/100\n",
            "30/30 [==============================] - 1s 29ms/step - loss: 0.7668 - accuracy: 0.7179 - val_loss: 0.8835 - val_accuracy: 0.7200\n",
            "Epoch 92/100\n",
            "30/30 [==============================] - 1s 29ms/step - loss: 0.7233 - accuracy: 0.7416 - val_loss: 0.9583 - val_accuracy: 0.6900\n",
            "Epoch 93/100\n",
            "30/30 [==============================] - 1s 29ms/step - loss: 0.6989 - accuracy: 0.7369 - val_loss: 0.7914 - val_accuracy: 0.7700\n",
            "Epoch 94/100\n",
            "30/30 [==============================] - 1s 29ms/step - loss: 0.7295 - accuracy: 0.7212 - val_loss: 0.9066 - val_accuracy: 0.7200\n",
            "Epoch 95/100\n",
            "30/30 [==============================] - 1s 29ms/step - loss: 0.7219 - accuracy: 0.7449 - val_loss: 0.8511 - val_accuracy: 0.7500\n",
            "Epoch 96/100\n",
            "30/30 [==============================] - 1s 30ms/step - loss: 0.7733 - accuracy: 0.7236 - val_loss: 0.8096 - val_accuracy: 0.7800\n",
            "Epoch 97/100\n",
            "30/30 [==============================] - 1s 29ms/step - loss: 0.7483 - accuracy: 0.7059 - val_loss: 1.0211 - val_accuracy: 0.6400\n",
            "Epoch 98/100\n",
            "30/30 [==============================] - 1s 30ms/step - loss: 0.6813 - accuracy: 0.7368 - val_loss: 0.8122 - val_accuracy: 0.7800\n",
            "Epoch 99/100\n",
            "30/30 [==============================] - 1s 30ms/step - loss: 0.6888 - accuracy: 0.7209 - val_loss: 0.7753 - val_accuracy: 0.7900\n",
            "Epoch 100/100\n",
            "30/30 [==============================] - 1s 30ms/step - loss: 0.7622 - accuracy: 0.6894 - val_loss: 0.7778 - val_accuracy: 0.7900\n"
          ],
          "name": "stdout"
        }
      ]
    },
    {
      "cell_type": "code",
      "metadata": {
        "id": "FnuSBCoRwkjd"
      },
      "source": [
        ""
      ],
      "execution_count": null,
      "outputs": []
    },
    {
      "cell_type": "code",
      "metadata": {
        "id": "kAMVOUBUhcj9",
        "colab": {
          "base_uri": "https://localhost:8080/"
        },
        "outputId": "32d9d399-d50a-4ee8-980e-291d565692cf"
      },
      "source": [
        "model.evaluate(test_data,test_labels)"
      ],
      "execution_count": null,
      "outputs": [
        {
          "output_type": "stream",
          "text": [
            "41/41 [==============================] - 1s 12ms/step - loss: 0.8723 - accuracy: 0.6554\n"
          ],
          "name": "stdout"
        },
        {
          "output_type": "execute_result",
          "data": {
            "text/plain": [
              "[0.8723036050796509, 0.6553584933280945]"
            ]
          },
          "metadata": {
            "tags": []
          },
          "execution_count": 48
        }
      ]
    },
    {
      "cell_type": "code",
      "metadata": {
        "id": "Ufw4FqsmU-g2",
        "colab": {
          "base_uri": "https://localhost:8080/"
        },
        "outputId": "eb9d95f9-c0e5-4525-9478-645ef65be0de"
      },
      "source": [
        "x = result.history.keys()\n",
        "x"
      ],
      "execution_count": null,
      "outputs": [
        {
          "output_type": "execute_result",
          "data": {
            "text/plain": [
              "dict_keys(['loss', 'accuracy', 'val_loss', 'val_accuracy'])"
            ]
          },
          "metadata": {
            "tags": []
          },
          "execution_count": 28
        }
      ]
    },
    {
      "cell_type": "code",
      "metadata": {
        "id": "dOKPsS3HWwUn",
        "colab": {
          "base_uri": "https://localhost:8080/",
          "height": 573
        },
        "outputId": "fb601771-3b95-4989-c588-cb1c64a20246"
      },
      "source": [
        "\n",
        "# Visualize training history\n",
        "from keras.models import Sequential\n",
        "from keras.layers import Dense\n",
        "import matplotlib.pyplot as plt\n",
        "import numpy\n",
        "plt.plot(result.history['accuracy'])\n",
        "plt.plot(result.history['val_accuracy'])\n",
        "plt.title('model accuracy')\n",
        "plt.ylabel('accuracy')\n",
        "plt.xlabel('epoch')\n",
        "plt.legend(['train', 'test'], loc='upper left')\n",
        "plt.show()\n",
        "# summarize history for loss\n",
        "plt.plot(result.history['loss'])\n",
        "plt.plot(result.history['val_loss'])\n",
        "plt.title('model loss')\n",
        "plt.ylabel('loss')\n",
        "plt.xlabel('epoch')\n",
        "plt.legend(['train', 'test'], loc='upper left')\n",
        "plt.show()"
      ],
      "execution_count": null,
      "outputs": [
        {
          "output_type": "display_data",
          "data": {
            "image/png": "[encoded data removed]",
            "text/plain": [
              "<Figure size 432x288 with 1 Axes>"
            ]
          },
          "metadata": {
            "tags": [],
            "needs_background": "light"
          }
        },
        {
          "output_type": "display_data",
          "data": {
            "image/png": "[encoded data removed]",
            "text/plain": [
              "<Figure size 432x288 with 1 Axes>"
            ]
          },
          "metadata": {
            "tags": [],
            "needs_background": "light"
          }
        }
      ]
    },
    {
      "cell_type": "code",
      "metadata": {
        "id": "u7p4aMxliqvO"
      },
      "source": [
        "y_pred1 = model.predict(test_data)"
      ],
      "execution_count": null,
      "outputs": []
    },
    {
      "cell_type": "code",
      "metadata": {
        "id": "-qhQ6JA_i0YM"
      },
      "source": [
        "y_pred1.shape"
      ],
      "execution_count": null,
      "outputs": []
    },
    {
      "cell_type": "code",
      "metadata": {
        "id": "TRKNoHsBNvdR"
      },
      "source": [
        "# list1 = []\n",
        "# for i in range(0,len(validation_generator)):\n",
        "#   for j in range(0,val_batch):\n",
        "#     try:\n",
        "#       list1.append(validation_generator[i][1][j].tolist())\n",
        "#     except:\n",
        "#       break"
      ],
      "execution_count": null,
      "outputs": []
    },
    {
      "cell_type": "code",
      "metadata": {
        "id": "P9u0xdNxfeHl",
        "colab": {
          "base_uri": "https://localhost:8080/"
        },
        "outputId": "59ee497f-3145-4d40-dab6-eb813fdf76fd"
      },
      "source": [
        "np.argmax(y_pred1, axis=1)[0:30]"
      ],
      "execution_count": null,
      "outputs": [
        {
          "output_type": "execute_result",
          "data": {
            "text/plain": [
              "array([4, 0, 4, 4, 4, 3, 1, 3, 2, 2, 1, 3, 2, 2, 2, 4, 0, 2, 4, 1, 1, 0,\n",
              "       4, 3, 1, 4, 3, 1, 4, 1])"
            ]
          },
          "metadata": {
            "tags": []
          },
          "execution_count": 51
        }
      ]
    },
    {
      "cell_type": "code",
      "metadata": {
        "colab": {
          "base_uri": "https://localhost:8080/"
        },
        "id": "zFzNqz3IvhSG",
        "outputId": "71758497-7dce-486a-b889-9a258f4fa4fe"
      },
      "source": [
        "np.array(test_labels[0:30]).astype('int32')"
      ],
      "execution_count": null,
      "outputs": [
        {
          "output_type": "execute_result",
          "data": {
            "text/plain": [
              "array([4, 0, 2, 4, 4, 4, 1, 3, 4, 2, 3, 3, 4, 2, 2, 4, 2, 2, 2, 1, 1, 0,\n",
              "       4, 3, 1, 4, 3, 1, 4, 1], dtype=int32)"
            ]
          },
          "metadata": {
            "tags": []
          },
          "execution_count": 52
        }
      ]
    },
    {
      "cell_type": "code",
      "metadata": {
        "id": "gq1gUHQh_rJ5"
      },
      "source": [
        "plt.figure(figsize = (20,20))\n",
        "for i in range(10):\n",
        "    img = train_datagen[600*i][0]\n",
        "    plt.subplot(1,5,i+1)\n",
        "    plt.imshow(img)\n",
        "    plt.axis(\"off\")\n",
        "    plt.title(train_datagen[600*i][1])\n",
        "plt.show()"
      ],
      "execution_count": null,
      "outputs": []
    }
  ]
}