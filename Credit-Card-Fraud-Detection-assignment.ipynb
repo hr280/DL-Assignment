{
 "cells": [
  {
   "cell_type": "markdown",
   "metadata": {},
   "source": [
    "# Credit Card Fraud Detection::"
   ]
  },
  {
   "cell_type": "markdown",
   "metadata": {},
   "source": [
    "Download dataset from this link:\n",
    "\n",
    "https://www.kaggle.com/mlg-ulb/creditcardfraud"
   ]
  },
  {
   "cell_type": "markdown",
   "metadata": {},
   "source": [
    "# Description about dataset::"
   ]
  },
  {
   "cell_type": "markdown",
   "metadata": {},
   "source": [
    "The datasets contains transactions made by credit cards in September 2013 by european cardholders.\n",
    "This dataset presents transactions that occurred in two days, where we have 492 frauds out of 284,807 transactions. The dataset is highly unbalanced, the positive class (frauds) account for 0.172% of all transactions.\n",
    "\n",
    "It contains only numerical input variables which are the result of a PCA transformation. Unfortunately, due to confidentiality issues, we cannot provide the original features and more background information about the data. Features V1, V2, … V28 are the principal components obtained with PCA, the only features which have not been transformed with PCA are 'Time' and 'Amount'. Feature 'Time' contains the seconds elapsed between each transaction and the first transaction in the dataset. The feature 'Amount' is the transaction Amount, this feature can be used for example-dependant cost-senstive learning. \n",
    "\n",
    "\n",
    "### Feature 'Class' is the response variable and it takes value 1 in case of fraud and 0 otherwise."
   ]
  },
  {
   "cell_type": "markdown",
   "metadata": {},
   "source": [
    "# WORKFLOW :"
   ]
  },
  {
   "cell_type": "markdown",
   "metadata": {},
   "source": [
    "1.Load Data\n",
    "\n",
    "2.Check Missing Values ( If Exist ; Fill each record with mean of its feature )\n",
    "\n",
    "3.Standardized the Input Variables. \n",
    "\n",
    "4.Split into 50% Training(Samples,Labels) , 30% Test(Samples,Labels) and 20% Validation Data(Samples,Labels).\n",
    "\n",
    "5.Model : input Layer (No. of features ), 3 hidden layers including 10,8,6 unit & Output Layer with activation function relu/tanh (check by experiment).\n",
    "\n",
    "6.Compilation Step (Note : Its a Binary problem , select loss , metrics according to it)\n",
    "\n",
    "7.Train the Model with Epochs (100).\n",
    "\n",
    "8.If the model gets overfit tune your model by changing the units , No. of layers , epochs , add dropout layer or add Regularizer according to the need .\n",
    "\n",
    "9.Prediction should be > 92%\n",
    "10.Evaluation Step\n",
    "11Prediction\n"
   ]
  },
  {
   "cell_type": "markdown",
   "metadata": {},
   "source": [
    "# Task::"
   ]
  },
  {
   "cell_type": "markdown",
   "metadata": {},
   "source": [
    "## Identify fraudulent credit card transactions."
   ]
  },
  {
   "cell_type": "code",
   "execution_count": 1,
   "metadata": {},
   "outputs": [],
   "source": [
    "import pandas as pd\n",
    "import numpy as np\n",
    "import tensorflow as tf\n",
    "df = pd.read_csv('./creditcard.csv')"
   ]
  },
  {
   "cell_type": "code",
   "execution_count": 196,
   "metadata": {},
   "outputs": [
    {
     "name": "stdout",
     "output_type": "stream",
     "text": [
      "Requirement already satisfied: scikit-learn in c:\\users\\administrator\\appdata\\local\\programs\\python\\python39\\lib\\site-packages (0.24.1)\n",
      "Requirement already satisfied: joblib>=0.11 in c:\\users\\administrator\\appdata\\local\\programs\\python\\python39\\lib\\site-packages (from scikit-learn) (1.0.1)\n",
      "Requirement already satisfied: numpy>=1.13.3 in c:\\users\\administrator\\appdata\\local\\programs\\python\\python39\\lib\\site-packages (from scikit-learn) (1.19.4)\n",
      "Requirement already satisfied: scipy>=0.19.1 in c:\\users\\administrator\\appdata\\local\\programs\\python\\python39\\lib\\site-packages (from scikit-learn) (1.6.0)\n",
      "Requirement already satisfied: threadpoolctl>=2.0.0 in c:\\users\\administrator\\appdata\\local\\programs\\python\\python39\\lib\\site-packages (from scikit-learn) (2.1.0)\n"
     ]
    }
   ],
   "source": [
    "# !pip install -U scikit-learn"
   ]
  },
  {
   "cell_type": "code",
   "execution_count": 2,
   "metadata": {},
   "outputs": [
    {
     "data": {
      "text/html": [
       "<div>\n",
       "<style scoped>\n",
       "    .dataframe tbody tr th:only-of-type {\n",
       "        vertical-align: middle;\n",
       "    }\n",
       "\n",
       "    .dataframe tbody tr th {\n",
       "        vertical-align: top;\n",
       "    }\n",
       "\n",
       "    .dataframe thead th {\n",
       "        text-align: right;\n",
       "    }\n",
       "</style>\n",
       "<table border=\"1\" class=\"dataframe\">\n",
       "  <thead>\n",
       "    <tr style=\"text-align: right;\">\n",
       "      <th></th>\n",
       "      <th>Time</th>\n",
       "      <th>V1</th>\n",
       "      <th>V2</th>\n",
       "      <th>V3</th>\n",
       "      <th>V4</th>\n",
       "      <th>V5</th>\n",
       "      <th>V6</th>\n",
       "      <th>V7</th>\n",
       "      <th>V8</th>\n",
       "      <th>V9</th>\n",
       "      <th>...</th>\n",
       "      <th>V21</th>\n",
       "      <th>V22</th>\n",
       "      <th>V23</th>\n",
       "      <th>V24</th>\n",
       "      <th>V25</th>\n",
       "      <th>V26</th>\n",
       "      <th>V27</th>\n",
       "      <th>V28</th>\n",
       "      <th>Amount</th>\n",
       "      <th>Class</th>\n",
       "    </tr>\n",
       "  </thead>\n",
       "  <tbody>\n",
       "    <tr>\n",
       "      <th>0</th>\n",
       "      <td>0.0</td>\n",
       "      <td>-1.359807</td>\n",
       "      <td>-0.072781</td>\n",
       "      <td>2.536347</td>\n",
       "      <td>1.378155</td>\n",
       "      <td>-0.338321</td>\n",
       "      <td>0.462388</td>\n",
       "      <td>0.239599</td>\n",
       "      <td>0.098698</td>\n",
       "      <td>0.363787</td>\n",
       "      <td>...</td>\n",
       "      <td>-0.018307</td>\n",
       "      <td>0.277838</td>\n",
       "      <td>-0.110474</td>\n",
       "      <td>0.066928</td>\n",
       "      <td>0.128539</td>\n",
       "      <td>-0.189115</td>\n",
       "      <td>0.133558</td>\n",
       "      <td>-0.021053</td>\n",
       "      <td>149.62</td>\n",
       "      <td>0</td>\n",
       "    </tr>\n",
       "    <tr>\n",
       "      <th>1</th>\n",
       "      <td>0.0</td>\n",
       "      <td>1.191857</td>\n",
       "      <td>0.266151</td>\n",
       "      <td>0.166480</td>\n",
       "      <td>0.448154</td>\n",
       "      <td>0.060018</td>\n",
       "      <td>-0.082361</td>\n",
       "      <td>-0.078803</td>\n",
       "      <td>0.085102</td>\n",
       "      <td>-0.255425</td>\n",
       "      <td>...</td>\n",
       "      <td>-0.225775</td>\n",
       "      <td>-0.638672</td>\n",
       "      <td>0.101288</td>\n",
       "      <td>-0.339846</td>\n",
       "      <td>0.167170</td>\n",
       "      <td>0.125895</td>\n",
       "      <td>-0.008983</td>\n",
       "      <td>0.014724</td>\n",
       "      <td>2.69</td>\n",
       "      <td>0</td>\n",
       "    </tr>\n",
       "    <tr>\n",
       "      <th>2</th>\n",
       "      <td>1.0</td>\n",
       "      <td>-1.358354</td>\n",
       "      <td>-1.340163</td>\n",
       "      <td>1.773209</td>\n",
       "      <td>0.379780</td>\n",
       "      <td>-0.503198</td>\n",
       "      <td>1.800499</td>\n",
       "      <td>0.791461</td>\n",
       "      <td>0.247676</td>\n",
       "      <td>-1.514654</td>\n",
       "      <td>...</td>\n",
       "      <td>0.247998</td>\n",
       "      <td>0.771679</td>\n",
       "      <td>0.909412</td>\n",
       "      <td>-0.689281</td>\n",
       "      <td>-0.327642</td>\n",
       "      <td>-0.139097</td>\n",
       "      <td>-0.055353</td>\n",
       "      <td>-0.059752</td>\n",
       "      <td>378.66</td>\n",
       "      <td>0</td>\n",
       "    </tr>\n",
       "    <tr>\n",
       "      <th>3</th>\n",
       "      <td>1.0</td>\n",
       "      <td>-0.966272</td>\n",
       "      <td>-0.185226</td>\n",
       "      <td>1.792993</td>\n",
       "      <td>-0.863291</td>\n",
       "      <td>-0.010309</td>\n",
       "      <td>1.247203</td>\n",
       "      <td>0.237609</td>\n",
       "      <td>0.377436</td>\n",
       "      <td>-1.387024</td>\n",
       "      <td>...</td>\n",
       "      <td>-0.108300</td>\n",
       "      <td>0.005274</td>\n",
       "      <td>-0.190321</td>\n",
       "      <td>-1.175575</td>\n",
       "      <td>0.647376</td>\n",
       "      <td>-0.221929</td>\n",
       "      <td>0.062723</td>\n",
       "      <td>0.061458</td>\n",
       "      <td>123.50</td>\n",
       "      <td>0</td>\n",
       "    </tr>\n",
       "    <tr>\n",
       "      <th>4</th>\n",
       "      <td>2.0</td>\n",
       "      <td>-1.158233</td>\n",
       "      <td>0.877737</td>\n",
       "      <td>1.548718</td>\n",
       "      <td>0.403034</td>\n",
       "      <td>-0.407193</td>\n",
       "      <td>0.095921</td>\n",
       "      <td>0.592941</td>\n",
       "      <td>-0.270533</td>\n",
       "      <td>0.817739</td>\n",
       "      <td>...</td>\n",
       "      <td>-0.009431</td>\n",
       "      <td>0.798278</td>\n",
       "      <td>-0.137458</td>\n",
       "      <td>0.141267</td>\n",
       "      <td>-0.206010</td>\n",
       "      <td>0.502292</td>\n",
       "      <td>0.219422</td>\n",
       "      <td>0.215153</td>\n",
       "      <td>69.99</td>\n",
       "      <td>0</td>\n",
       "    </tr>\n",
       "  </tbody>\n",
       "</table>\n",
       "<p>5 rows × 31 columns</p>\n",
       "</div>"
      ],
      "text/plain": [
       "   Time        V1        V2        V3        V4        V5        V6        V7  \\\n",
       "0   0.0 -1.359807 -0.072781  2.536347  1.378155 -0.338321  0.462388  0.239599   \n",
       "1   0.0  1.191857  0.266151  0.166480  0.448154  0.060018 -0.082361 -0.078803   \n",
       "2   1.0 -1.358354 -1.340163  1.773209  0.379780 -0.503198  1.800499  0.791461   \n",
       "3   1.0 -0.966272 -0.185226  1.792993 -0.863291 -0.010309  1.247203  0.237609   \n",
       "4   2.0 -1.158233  0.877737  1.548718  0.403034 -0.407193  0.095921  0.592941   \n",
       "\n",
       "         V8        V9  ...       V21       V22       V23       V24       V25  \\\n",
       "0  0.098698  0.363787  ... -0.018307  0.277838 -0.110474  0.066928  0.128539   \n",
       "1  0.085102 -0.255425  ... -0.225775 -0.638672  0.101288 -0.339846  0.167170   \n",
       "2  0.247676 -1.514654  ...  0.247998  0.771679  0.909412 -0.689281 -0.327642   \n",
       "3  0.377436 -1.387024  ... -0.108300  0.005274 -0.190321 -1.175575  0.647376   \n",
       "4 -0.270533  0.817739  ... -0.009431  0.798278 -0.137458  0.141267 -0.206010   \n",
       "\n",
       "        V26       V27       V28  Amount  Class  \n",
       "0 -0.189115  0.133558 -0.021053  149.62      0  \n",
       "1  0.125895 -0.008983  0.014724    2.69      0  \n",
       "2 -0.139097 -0.055353 -0.059752  378.66      0  \n",
       "3 -0.221929  0.062723  0.061458  123.50      0  \n",
       "4  0.502292  0.219422  0.215153   69.99      0  \n",
       "\n",
       "[5 rows x 31 columns]"
      ]
     },
     "execution_count": 2,
     "metadata": {},
     "output_type": "execute_result"
    }
   ],
   "source": [
    "df.head(5)"
   ]
  },
  {
   "cell_type": "code",
   "execution_count": 3,
   "metadata": {},
   "outputs": [],
   "source": [
    "from sklearn.model_selection import train_test_split"
   ]
  },
  {
   "cell_type": "code",
   "execution_count": 252,
   "metadata": {},
   "outputs": [],
   "source": [
    "non_fraud=df[df[\"Class\"]==0]\n",
    "fraud = df[df[\"Class\"]==1]\n",
    "non_fraud=non_fraud.sample(3*fraud.shape[0])\n",
    "data = fraud.append(non_fraud, ignore_index=True)\n",
    "# data[\"Class\"].value_counts()\n",
    "x_data= data.drop(columns=\"Class\", axis=0)\n",
    "label = data[\"Class\"]"
   ]
  },
  {
   "cell_type": "code",
   "execution_count": 253,
   "metadata": {},
   "outputs": [],
   "source": [
    "train_data, test_data, train_labels, test_labels=train_test_split(x_data, label, test_size=0.3, random_state=1, stratify = label)"
   ]
  },
  {
   "cell_type": "code",
   "execution_count": 254,
   "metadata": {},
   "outputs": [],
   "source": [
    "train_mean = train_data.mean(axis=0) # taking the mean of \n",
    "train_data -= train_mean\n",
    "train_std = train_data.std(axis=0)\n",
    "train_data /= train_std\n",
    "test_data -= train_mean\n",
    "test_data /= train_std"
   ]
  },
  {
   "cell_type": "code",
   "execution_count": 255,
   "metadata": {},
   "outputs": [],
   "source": [
    "from keras import models,layers\n",
    "from keras import regularizers\n",
    "\n",
    "model = models.Sequential()\n",
    "model.add(layers.Dense(20, activation='relu',kernel_regularizer=regularizers.l2(0.001), input_shape=(train_data.shape[1],)))\n",
    "model.add(layers.Dropout(0.5))\n",
    "model.add(layers.Dense(10, activation='relu',kernel_regularizer=regularizers.l2(0.001)))\n",
    "model.add(layers.Dropout(0.5))\n",
    "model.add(layers.Dense(8, activation='relu',kernel_regularizer=regularizers.l2(0.001)))\n",
    "model.add(layers.Dropout(0.5))\n",
    "model.add(layers.Dense(6, activation='relu',kernel_regularizer=regularizers.l2(0.001)))\n",
    "model.add(layers.Dropout(0.5))\n",
    "model.add(layers.Dense(1, activation='sigmoid'))"
   ]
  },
  {
   "cell_type": "code",
   "execution_count": 256,
   "metadata": {},
   "outputs": [],
   "source": [
    "model.compile(loss= 'binary_crossentropy', optimizer= 'rmsprop', metrics=['accuracy'])"
   ]
  },
  {
   "cell_type": "code",
   "execution_count": 257,
   "metadata": {},
   "outputs": [
    {
     "name": "stdout",
     "output_type": "stream",
     "text": [
      "Epoch 1/100\n",
      "31/31 [==============================] - 2s 15ms/step - loss: 0.7562 - accuracy: 0.6071 - val_loss: 0.7087 - val_accuracy: 0.7923\n",
      "Epoch 2/100\n",
      "31/31 [==============================] - 0s 4ms/step - loss: 0.7108 - accuracy: 0.6631 - val_loss: 0.6883 - val_accuracy: 0.7729\n",
      "Epoch 3/100\n",
      "31/31 [==============================] - 0s 4ms/step - loss: 0.6878 - accuracy: 0.7325 - val_loss: 0.6636 - val_accuracy: 0.7440\n",
      "Epoch 4/100\n",
      "31/31 [==============================] - 0s 4ms/step - loss: 0.6742 - accuracy: 0.7355 - val_loss: 0.6303 - val_accuracy: 0.7440\n",
      "Epoch 5/100\n",
      "31/31 [==============================] - 0s 4ms/step - loss: 0.6762 - accuracy: 0.7608 - val_loss: 0.6142 - val_accuracy: 0.7464\n",
      "Epoch 6/100\n",
      "31/31 [==============================] - 0s 4ms/step - loss: 0.6478 - accuracy: 0.7357 - val_loss: 0.5998 - val_accuracy: 0.7464\n",
      "Epoch 7/100\n",
      "31/31 [==============================] - 0s 4ms/step - loss: 0.6216 - accuracy: 0.7791 - val_loss: 0.5758 - val_accuracy: 0.7464\n",
      "Epoch 8/100\n",
      "31/31 [==============================] - 0s 4ms/step - loss: 0.6242 - accuracy: 0.7596 - val_loss: 0.5491 - val_accuracy: 0.7512\n",
      "Epoch 9/100\n",
      "31/31 [==============================] - 0s 4ms/step - loss: 0.6223 - accuracy: 0.7793 - val_loss: 0.5332 - val_accuracy: 0.7802\n",
      "Epoch 10/100\n",
      "31/31 [==============================] - 0s 4ms/step - loss: 0.5771 - accuracy: 0.8080 - val_loss: 0.5061 - val_accuracy: 0.7995\n",
      "Epoch 11/100\n",
      "31/31 [==============================] - 0s 6ms/step - loss: 0.5776 - accuracy: 0.7892 - val_loss: 0.4836 - val_accuracy: 0.8213\n",
      "Epoch 12/100\n",
      "31/31 [==============================] - 0s 4ms/step - loss: 0.5682 - accuracy: 0.8011 - val_loss: 0.4689 - val_accuracy: 0.8357\n",
      "Epoch 13/100\n",
      "31/31 [==============================] - 0s 4ms/step - loss: 0.5486 - accuracy: 0.8281 - val_loss: 0.4454 - val_accuracy: 0.8478\n",
      "Epoch 14/100\n",
      "31/31 [==============================] - 0s 4ms/step - loss: 0.5045 - accuracy: 0.8139 - val_loss: 0.4184 - val_accuracy: 0.8671\n",
      "Epoch 15/100\n",
      "31/31 [==============================] - 0s 4ms/step - loss: 0.5258 - accuracy: 0.8173 - val_loss: 0.4035 - val_accuracy: 0.8744\n",
      "Epoch 16/100\n",
      "31/31 [==============================] - 0s 4ms/step - loss: 0.4979 - accuracy: 0.8147 - val_loss: 0.3855 - val_accuracy: 0.8841\n",
      "Epoch 17/100\n",
      "31/31 [==============================] - 0s 4ms/step - loss: 0.5110 - accuracy: 0.8195 - val_loss: 0.3690 - val_accuracy: 0.9058\n",
      "Epoch 18/100\n",
      "31/31 [==============================] - 0s 4ms/step - loss: 0.4771 - accuracy: 0.8339 - val_loss: 0.3454 - val_accuracy: 0.9251\n",
      "Epoch 19/100\n",
      "31/31 [==============================] - 0s 4ms/step - loss: 0.4569 - accuracy: 0.8450 - val_loss: 0.3232 - val_accuracy: 0.9348\n",
      "Epoch 20/100\n",
      "31/31 [==============================] - 0s 4ms/step - loss: 0.4451 - accuracy: 0.8644 - val_loss: 0.3078 - val_accuracy: 0.9348\n",
      "Epoch 21/100\n",
      "31/31 [==============================] - 0s 4ms/step - loss: 0.4515 - accuracy: 0.8541 - val_loss: 0.2920 - val_accuracy: 0.9372\n",
      "Epoch 22/100\n",
      "31/31 [==============================] - 0s 4ms/step - loss: 0.4922 - accuracy: 0.8261 - val_loss: 0.2865 - val_accuracy: 0.9372\n",
      "Epoch 23/100\n",
      "31/31 [==============================] - 0s 4ms/step - loss: 0.4219 - accuracy: 0.8519 - val_loss: 0.2733 - val_accuracy: 0.9396\n",
      "Epoch 24/100\n",
      "31/31 [==============================] - 0s 4ms/step - loss: 0.4351 - accuracy: 0.8462 - val_loss: 0.2620 - val_accuracy: 0.9420\n",
      "Epoch 25/100\n",
      "31/31 [==============================] - 0s 4ms/step - loss: 0.4306 - accuracy: 0.8517 - val_loss: 0.2559 - val_accuracy: 0.9420\n",
      "Epoch 26/100\n",
      "31/31 [==============================] - 0s 4ms/step - loss: 0.4613 - accuracy: 0.8342 - val_loss: 0.2513 - val_accuracy: 0.9469\n",
      "Epoch 27/100\n",
      "31/31 [==============================] - 0s 4ms/step - loss: 0.4697 - accuracy: 0.8420 - val_loss: 0.2494 - val_accuracy: 0.9493\n",
      "Epoch 28/100\n",
      "31/31 [==============================] - 0s 4ms/step - loss: 0.3984 - accuracy: 0.8639 - val_loss: 0.2428 - val_accuracy: 0.9493\n",
      "Epoch 29/100\n",
      "31/31 [==============================] - 0s 4ms/step - loss: 0.4038 - accuracy: 0.8717 - val_loss: 0.2387 - val_accuracy: 0.9517\n",
      "Epoch 30/100\n",
      "31/31 [==============================] - 0s 4ms/step - loss: 0.3966 - accuracy: 0.8760 - val_loss: 0.2322 - val_accuracy: 0.9517\n",
      "Epoch 31/100\n",
      "31/31 [==============================] - 0s 4ms/step - loss: 0.3986 - accuracy: 0.8814 - val_loss: 0.2262 - val_accuracy: 0.9517\n",
      "Epoch 32/100\n",
      "31/31 [==============================] - 0s 4ms/step - loss: 0.4024 - accuracy: 0.8735 - val_loss: 0.2198 - val_accuracy: 0.9517\n",
      "Epoch 33/100\n",
      "31/31 [==============================] - 0s 4ms/step - loss: 0.3628 - accuracy: 0.8779 - val_loss: 0.2119 - val_accuracy: 0.9517\n",
      "Epoch 34/100\n",
      "31/31 [==============================] - 0s 4ms/step - loss: 0.3477 - accuracy: 0.9018 - val_loss: 0.2097 - val_accuracy: 0.9565\n",
      "Epoch 35/100\n",
      "31/31 [==============================] - 0s 4ms/step - loss: 0.3407 - accuracy: 0.9018 - val_loss: 0.2028 - val_accuracy: 0.9589\n",
      "Epoch 36/100\n",
      "31/31 [==============================] - 0s 4ms/step - loss: 0.3390 - accuracy: 0.9012 - val_loss: 0.2010 - val_accuracy: 0.9589\n",
      "Epoch 37/100\n",
      "31/31 [==============================] - 0s 4ms/step - loss: 0.3452 - accuracy: 0.8889 - val_loss: 0.1979 - val_accuracy: 0.9589\n",
      "Epoch 38/100\n",
      "31/31 [==============================] - 0s 5ms/step - loss: 0.3258 - accuracy: 0.8931 - val_loss: 0.1951 - val_accuracy: 0.9589\n",
      "Epoch 39/100\n",
      "31/31 [==============================] - 0s 4ms/step - loss: 0.3172 - accuracy: 0.9154 - val_loss: 0.1925 - val_accuracy: 0.9589\n",
      "Epoch 40/100\n",
      "31/31 [==============================] - 0s 4ms/step - loss: 0.2960 - accuracy: 0.9161 - val_loss: 0.1877 - val_accuracy: 0.9614\n",
      "Epoch 41/100\n",
      "31/31 [==============================] - 0s 4ms/step - loss: 0.3246 - accuracy: 0.9066 - val_loss: 0.1841 - val_accuracy: 0.9614\n",
      "Epoch 42/100\n",
      "31/31 [==============================] - 0s 4ms/step - loss: 0.2793 - accuracy: 0.9188 - val_loss: 0.1814 - val_accuracy: 0.9614\n",
      "Epoch 43/100\n",
      "31/31 [==============================] - 0s 4ms/step - loss: 0.3234 - accuracy: 0.8950 - val_loss: 0.1792 - val_accuracy: 0.9589\n",
      "Epoch 44/100\n",
      "31/31 [==============================] - 0s 4ms/step - loss: 0.3533 - accuracy: 0.8968 - val_loss: 0.1798 - val_accuracy: 0.9614\n",
      "Epoch 45/100\n",
      "31/31 [==============================] - 0s 4ms/step - loss: 0.2983 - accuracy: 0.9057 - val_loss: 0.1774 - val_accuracy: 0.9638\n",
      "Epoch 46/100\n",
      "31/31 [==============================] - 0s 4ms/step - loss: 0.3183 - accuracy: 0.9173 - val_loss: 0.1770 - val_accuracy: 0.9614\n",
      "Epoch 47/100\n",
      "31/31 [==============================] - 0s 4ms/step - loss: 0.3229 - accuracy: 0.9142 - val_loss: 0.1756 - val_accuracy: 0.9638\n",
      "Epoch 48/100\n",
      "31/31 [==============================] - 0s 4ms/step - loss: 0.3308 - accuracy: 0.9054 - val_loss: 0.1740 - val_accuracy: 0.9662\n",
      "Epoch 49/100\n",
      "31/31 [==============================] - 0s 4ms/step - loss: 0.2945 - accuracy: 0.9129 - val_loss: 0.1699 - val_accuracy: 0.9638\n",
      "Epoch 50/100\n",
      "31/31 [==============================] - 0s 4ms/step - loss: 0.3861 - accuracy: 0.9042 - val_loss: 0.1691 - val_accuracy: 0.9638\n",
      "Epoch 51/100\n",
      "31/31 [==============================] - 0s 4ms/step - loss: 0.2949 - accuracy: 0.9162 - val_loss: 0.1678 - val_accuracy: 0.9638\n",
      "Epoch 52/100\n",
      "31/31 [==============================] - 0s 4ms/step - loss: 0.2630 - accuracy: 0.9346 - val_loss: 0.1667 - val_accuracy: 0.9662\n",
      "Epoch 53/100\n",
      "31/31 [==============================] - 0s 4ms/step - loss: 0.3062 - accuracy: 0.9119 - val_loss: 0.1655 - val_accuracy: 0.9662\n",
      "Epoch 54/100\n",
      "31/31 [==============================] - 0s 4ms/step - loss: 0.2576 - accuracy: 0.9267 - val_loss: 0.1640 - val_accuracy: 0.9662\n",
      "Epoch 55/100\n",
      "31/31 [==============================] - 0s 4ms/step - loss: 0.3000 - accuracy: 0.9188 - val_loss: 0.1625 - val_accuracy: 0.9662\n",
      "Epoch 56/100\n",
      "31/31 [==============================] - 0s 4ms/step - loss: 0.3221 - accuracy: 0.9050 - val_loss: 0.1615 - val_accuracy: 0.9662\n",
      "Epoch 57/100\n",
      "31/31 [==============================] - 0s 4ms/step - loss: 0.2645 - accuracy: 0.9212 - val_loss: 0.1594 - val_accuracy: 0.9662\n",
      "Epoch 58/100\n",
      "31/31 [==============================] - 0s 4ms/step - loss: 0.2956 - accuracy: 0.9097 - val_loss: 0.1601 - val_accuracy: 0.9662\n",
      "Epoch 59/100\n",
      "31/31 [==============================] - 0s 4ms/step - loss: 0.2814 - accuracy: 0.9258 - val_loss: 0.1602 - val_accuracy: 0.9662\n",
      "Epoch 60/100\n",
      "31/31 [==============================] - 0s 4ms/step - loss: 0.2303 - accuracy: 0.9396 - val_loss: 0.1590 - val_accuracy: 0.9662\n",
      "Epoch 61/100\n",
      "31/31 [==============================] - 0s 4ms/step - loss: 0.3018 - accuracy: 0.9131 - val_loss: 0.1591 - val_accuracy: 0.9638\n",
      "Epoch 62/100\n",
      "31/31 [==============================] - 0s 4ms/step - loss: 0.2492 - accuracy: 0.9313 - val_loss: 0.1578 - val_accuracy: 0.9638\n",
      "Epoch 63/100\n",
      "31/31 [==============================] - 0s 4ms/step - loss: 0.2338 - accuracy: 0.9442 - val_loss: 0.1560 - val_accuracy: 0.9638\n",
      "Epoch 64/100\n",
      "31/31 [==============================] - 0s 4ms/step - loss: 0.2569 - accuracy: 0.9228 - val_loss: 0.1558 - val_accuracy: 0.9638\n",
      "Epoch 65/100\n",
      "31/31 [==============================] - 0s 4ms/step - loss: 0.2440 - accuracy: 0.9223 - val_loss: 0.1551 - val_accuracy: 0.9638\n",
      "Epoch 66/100\n",
      "31/31 [==============================] - 0s 4ms/step - loss: 0.2618 - accuracy: 0.9218 - val_loss: 0.1541 - val_accuracy: 0.9614\n",
      "Epoch 67/100\n",
      "31/31 [==============================] - 0s 4ms/step - loss: 0.2586 - accuracy: 0.9275 - val_loss: 0.1536 - val_accuracy: 0.9638\n",
      "Epoch 68/100\n",
      "31/31 [==============================] - 0s 4ms/step - loss: 0.2494 - accuracy: 0.9209 - val_loss: 0.1533 - val_accuracy: 0.9638\n",
      "Epoch 69/100\n",
      "31/31 [==============================] - 0s 5ms/step - loss: 0.2022 - accuracy: 0.9456 - val_loss: 0.1525 - val_accuracy: 0.9662\n",
      "Epoch 70/100\n",
      "31/31 [==============================] - 0s 4ms/step - loss: 0.2071 - accuracy: 0.9470 - val_loss: 0.1521 - val_accuracy: 0.9638\n",
      "Epoch 71/100\n",
      "31/31 [==============================] - 0s 4ms/step - loss: 0.2552 - accuracy: 0.9230 - val_loss: 0.1518 - val_accuracy: 0.9638\n",
      "Epoch 72/100\n",
      "31/31 [==============================] - 0s 4ms/step - loss: 0.2649 - accuracy: 0.9279 - val_loss: 0.1524 - val_accuracy: 0.9638\n",
      "Epoch 73/100\n",
      "31/31 [==============================] - 0s 4ms/step - loss: 0.2380 - accuracy: 0.9305 - val_loss: 0.1529 - val_accuracy: 0.9638\n",
      "Epoch 74/100\n",
      "31/31 [==============================] - 0s 4ms/step - loss: 0.2062 - accuracy: 0.9420 - val_loss: 0.1527 - val_accuracy: 0.9638\n",
      "Epoch 75/100\n",
      "31/31 [==============================] - 0s 4ms/step - loss: 0.2500 - accuracy: 0.9239 - val_loss: 0.1526 - val_accuracy: 0.9638\n",
      "Epoch 76/100\n",
      "31/31 [==============================] - 0s 4ms/step - loss: 0.2318 - accuracy: 0.9368 - val_loss: 0.1522 - val_accuracy: 0.9638\n",
      "Epoch 77/100\n",
      "31/31 [==============================] - 0s 4ms/step - loss: 0.2779 - accuracy: 0.9244 - val_loss: 0.1525 - val_accuracy: 0.9662\n",
      "Epoch 78/100\n",
      "31/31 [==============================] - 0s 4ms/step - loss: 0.2475 - accuracy: 0.9220 - val_loss: 0.1527 - val_accuracy: 0.9638\n",
      "Epoch 79/100\n",
      "31/31 [==============================] - 0s 4ms/step - loss: 0.2251 - accuracy: 0.9354 - val_loss: 0.1525 - val_accuracy: 0.9662\n",
      "Epoch 80/100\n",
      "31/31 [==============================] - 0s 4ms/step - loss: 0.2192 - accuracy: 0.9337 - val_loss: 0.1535 - val_accuracy: 0.9638\n",
      "Epoch 81/100\n",
      "31/31 [==============================] - 0s 4ms/step - loss: 0.2423 - accuracy: 0.9291 - val_loss: 0.1535 - val_accuracy: 0.9638\n",
      "Epoch 82/100\n",
      "31/31 [==============================] - 0s 4ms/step - loss: 0.2352 - accuracy: 0.9336 - val_loss: 0.1531 - val_accuracy: 0.9638\n",
      "Epoch 83/100\n",
      "31/31 [==============================] - 0s 4ms/step - loss: 0.1955 - accuracy: 0.9510 - val_loss: 0.1524 - val_accuracy: 0.9638\n",
      "Epoch 84/100\n",
      "31/31 [==============================] - 0s 4ms/step - loss: 0.2055 - accuracy: 0.9366 - val_loss: 0.1533 - val_accuracy: 0.9638\n",
      "Epoch 85/100\n",
      "31/31 [==============================] - 0s 4ms/step - loss: 0.2564 - accuracy: 0.9321 - val_loss: 0.1540 - val_accuracy: 0.9638\n",
      "Epoch 86/100\n",
      "31/31 [==============================] - 0s 4ms/step - loss: 0.2195 - accuracy: 0.9432 - val_loss: 0.1555 - val_accuracy: 0.9614\n",
      "Epoch 87/100\n",
      "31/31 [==============================] - 0s 4ms/step - loss: 0.2200 - accuracy: 0.9315 - val_loss: 0.1545 - val_accuracy: 0.9614\n",
      "Epoch 88/100\n",
      "31/31 [==============================] - 0s 4ms/step - loss: 0.2453 - accuracy: 0.9164 - val_loss: 0.1544 - val_accuracy: 0.9614\n",
      "Epoch 89/100\n",
      "31/31 [==============================] - 0s 4ms/step - loss: 0.1942 - accuracy: 0.9541 - val_loss: 0.1541 - val_accuracy: 0.9614\n",
      "Epoch 90/100\n",
      "31/31 [==============================] - 0s 4ms/step - loss: 0.2032 - accuracy: 0.9402 - val_loss: 0.1550 - val_accuracy: 0.9614\n",
      "Epoch 91/100\n",
      "31/31 [==============================] - 0s 4ms/step - loss: 0.2256 - accuracy: 0.9403 - val_loss: 0.1529 - val_accuracy: 0.9614\n",
      "Epoch 92/100\n",
      "31/31 [==============================] - 0s 4ms/step - loss: 0.2331 - accuracy: 0.9302 - val_loss: 0.1542 - val_accuracy: 0.9614\n",
      "Epoch 93/100\n",
      "31/31 [==============================] - 0s 4ms/step - loss: 0.2070 - accuracy: 0.9466 - val_loss: 0.1525 - val_accuracy: 0.9614\n",
      "Epoch 94/100\n",
      "31/31 [==============================] - 0s 4ms/step - loss: 0.2006 - accuracy: 0.9441 - val_loss: 0.1523 - val_accuracy: 0.9614\n",
      "Epoch 95/100\n",
      "31/31 [==============================] - 0s 4ms/step - loss: 0.1692 - accuracy: 0.9537 - val_loss: 0.1506 - val_accuracy: 0.9638\n",
      "Epoch 96/100\n",
      "31/31 [==============================] - 0s 4ms/step - loss: 0.1704 - accuracy: 0.9547 - val_loss: 0.1510 - val_accuracy: 0.9638\n",
      "Epoch 97/100\n",
      "31/31 [==============================] - 0s 4ms/step - loss: 0.2144 - accuracy: 0.9401 - val_loss: 0.1505 - val_accuracy: 0.9638\n",
      "Epoch 98/100\n",
      "31/31 [==============================] - 0s 4ms/step - loss: 0.1903 - accuracy: 0.9533 - val_loss: 0.1510 - val_accuracy: 0.9614\n",
      "Epoch 99/100\n",
      "31/31 [==============================] - 0s 4ms/step - loss: 0.2264 - accuracy: 0.9281 - val_loss: 0.1503 - val_accuracy: 0.9614\n",
      "Epoch 100/100\n",
      "31/31 [==============================] - 0s 4ms/step - loss: 0.1852 - accuracy: 0.9507 - val_loss: 0.1500 - val_accuracy: 0.9662\n"
     ]
    },
    {
     "data": {
      "text/plain": [
       "<tensorflow.python.keras.callbacks.History at 0x201ed22f700>"
      ]
     },
     "execution_count": 257,
     "metadata": {},
     "output_type": "execute_result"
    }
   ],
   "source": [
    "model.fit(train_data, train_labels, epochs=100,validation_split = 0.3)"
   ]
  },
  {
   "cell_type": "code",
   "execution_count": 258,
   "metadata": {},
   "outputs": [
    {
     "name": "stdout",
     "output_type": "stream",
     "text": [
      "19/19 [==============================] - 0s 1ms/step - loss: 0.1806 - accuracy: 0.9560\n"
     ]
    }
   ],
   "source": [
    "loss, accuracy = model.evaluate(test_data, test_labels)"
   ]
  },
  {
   "cell_type": "code",
   "execution_count": 259,
   "metadata": {},
   "outputs": [
    {
     "data": {
      "text/plain": [
       "0.18058429658412933"
      ]
     },
     "execution_count": 259,
     "metadata": {},
     "output_type": "execute_result"
    }
   ],
   "source": [
    "loss"
   ]
  },
  {
   "cell_type": "code",
   "execution_count": 260,
   "metadata": {},
   "outputs": [
    {
     "data": {
      "text/plain": [
       "0.9560067653656006"
      ]
     },
     "execution_count": 260,
     "metadata": {},
     "output_type": "execute_result"
    }
   ],
   "source": [
    "accuracy"
   ]
  },
  {
   "cell_type": "code",
   "execution_count": 261,
   "metadata": {},
   "outputs": [],
   "source": [
    "x = model.predict(test_data).astype(dtype=\"u8\")"
   ]
  },
  {
   "cell_type": "code",
   "execution_count": 262,
   "metadata": {},
   "outputs": [],
   "source": [
    "a=x"
   ]
  },
  {
   "cell_type": "code",
   "execution_count": 263,
   "metadata": {},
   "outputs": [],
   "source": [
    "b= np.array(test_labels)"
   ]
  },
  {
   "cell_type": "code",
   "execution_count": 264,
   "metadata": {},
   "outputs": [],
   "source": [
    "a= a.reshape(1,a.shape[0])"
   ]
  },
  {
   "cell_type": "code",
   "execution_count": 265,
   "metadata": {},
   "outputs": [
    {
     "data": {
      "text/plain": [
       "41"
      ]
     },
     "execution_count": 265,
     "metadata": {},
     "output_type": "execute_result"
    }
   ],
   "source": [
    "np.size(a != b) - np.count_nonzero(a == b)"
   ]
  },
  {
   "cell_type": "code",
   "execution_count": 266,
   "metadata": {},
   "outputs": [],
   "source": [
    "con = tf.math.confusion_matrix(labels= test_labels, predictions=x )"
   ]
  },
  {
   "cell_type": "code",
   "execution_count": 267,
   "metadata": {},
   "outputs": [
    {
     "data": {
      "text/plain": [
       "<tf.Tensor: shape=(2, 2), dtype=int32, numpy=\n",
       "array([[443,   0],\n",
       "       [ 41, 107]])>"
      ]
     },
     "execution_count": 267,
     "metadata": {},
     "output_type": "execute_result"
    }
   ],
   "source": [
    "con"
   ]
  }
 ],
 "metadata": {
  "kernelspec": {
   "display_name": "Python 3",
   "language": "python",
   "name": "python3"
  },
  "language_info": {
   "codemirror_mode": {
    "name": "ipython",
    "version": 3
   },
   "file_extension": ".py",
   "mimetype": "text/x-python",
   "name": "python",
   "nbconvert_exporter": "python",
   "pygments_lexer": "ipython3",
   "version": "3.9.2"
  }
 },
 "nbformat": 4,
 "nbformat_minor": 2
}
